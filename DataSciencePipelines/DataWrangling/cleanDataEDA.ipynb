{
 "cells": [
  {
   "cell_type": "markdown",
   "metadata": {},
   "source": [
    "## Import Package"
   ]
  },
  {
   "cell_type": "code",
   "execution_count": 166,
   "metadata": {
    "collapsed": false
   },
   "outputs": [],
   "source": [
    "import pandas as pd\n",
    "from pandas import DataFrame, read_csv\n",
    "import numpy as np\n",
    "import datetime as dt\n",
    "import matplotlib.pyplot as plt \n",
    "import math\n",
    "# We'll also import seaborn, a Python graphing library\n",
    "import warnings # current version of seaborn generates a bunch of warnings that we'll ignore\n",
    "warnings.filterwarnings(\"ignore\")\n",
    "import seaborn as sns\n",
    "import matplotlib.pyplot as plt"
   ]
  },
  {
   "cell_type": "markdown",
   "metadata": {},
   "source": [
    "## Access Dataset"
   ]
  },
  {
   "cell_type": "code",
   "execution_count": 167,
   "metadata": {
    "collapsed": false
   },
   "outputs": [
    {
     "data": {
      "text/html": [
       "<div>\n",
       "<table border=\"1\" class=\"dataframe\">\n",
       "  <thead>\n",
       "    <tr style=\"text-align: right;\">\n",
       "      <th></th>\n",
       "      <th>Unnamed: 0</th>\n",
       "      <th>STATION</th>\n",
       "      <th>STATION_NAME</th>\n",
       "      <th>ELEVATION</th>\n",
       "      <th>LATITUDE</th>\n",
       "      <th>LONGITUDE</th>\n",
       "      <th>DATE</th>\n",
       "      <th>REPORTTPYE</th>\n",
       "      <th>HOURLYSKYCONDITIONS</th>\n",
       "      <th>HOURLYVISIBILITY</th>\n",
       "      <th>...</th>\n",
       "      <th>MonthlyMinSeaLevelPressureTime</th>\n",
       "      <th>MonthlyTotalHeatingDegreeDays</th>\n",
       "      <th>MonthlyTotalCoolingDegreeDays</th>\n",
       "      <th>MonthlyDeptFromNormalHeatingDD</th>\n",
       "      <th>MonthlyDeptFromNormalCoolingDD</th>\n",
       "      <th>MonthlyTotalSeasonToDateHeatingDD</th>\n",
       "      <th>MonthlyTotalSeasonToDateCoolingDD</th>\n",
       "      <th>DAY</th>\n",
       "      <th>MONTH</th>\n",
       "      <th>YEAR</th>\n",
       "    </tr>\n",
       "  </thead>\n",
       "  <tbody>\n",
       "    <tr>\n",
       "      <th>0</th>\n",
       "      <td>0</td>\n",
       "      <td>WBAN:00169</td>\n",
       "      <td>CHESTER AIRPORT CT US</td>\n",
       "      <td>127.1</td>\n",
       "      <td>41.384</td>\n",
       "      <td>-72.506</td>\n",
       "      <td>2014-07-31 15:55:00</td>\n",
       "      <td>FM-15</td>\n",
       "      <td>CLR:00</td>\n",
       "      <td>10.0</td>\n",
       "      <td>...</td>\n",
       "      <td>-9999</td>\n",
       "      <td>NaN</td>\n",
       "      <td>NaN</td>\n",
       "      <td>NaN</td>\n",
       "      <td>NaN</td>\n",
       "      <td>NaN</td>\n",
       "      <td>NaN</td>\n",
       "      <td>2014-07-31</td>\n",
       "      <td>7</td>\n",
       "      <td>2014</td>\n",
       "    </tr>\n",
       "    <tr>\n",
       "      <th>1</th>\n",
       "      <td>1</td>\n",
       "      <td>WBAN:00169</td>\n",
       "      <td>CHESTER AIRPORT CT US</td>\n",
       "      <td>127.1</td>\n",
       "      <td>41.384</td>\n",
       "      <td>-72.506</td>\n",
       "      <td>2014-07-31 16:15:00</td>\n",
       "      <td>FM-15</td>\n",
       "      <td>CLR:00</td>\n",
       "      <td>10.0</td>\n",
       "      <td>...</td>\n",
       "      <td>-9999</td>\n",
       "      <td>NaN</td>\n",
       "      <td>NaN</td>\n",
       "      <td>NaN</td>\n",
       "      <td>NaN</td>\n",
       "      <td>NaN</td>\n",
       "      <td>NaN</td>\n",
       "      <td>2014-07-31</td>\n",
       "      <td>7</td>\n",
       "      <td>2014</td>\n",
       "    </tr>\n",
       "    <tr>\n",
       "      <th>2</th>\n",
       "      <td>2</td>\n",
       "      <td>WBAN:00169</td>\n",
       "      <td>CHESTER AIRPORT CT US</td>\n",
       "      <td>127.1</td>\n",
       "      <td>41.384</td>\n",
       "      <td>-72.506</td>\n",
       "      <td>2014-07-31 16:35:00</td>\n",
       "      <td>FM-15</td>\n",
       "      <td>CLR:00</td>\n",
       "      <td>10.0</td>\n",
       "      <td>...</td>\n",
       "      <td>-9999</td>\n",
       "      <td>NaN</td>\n",
       "      <td>NaN</td>\n",
       "      <td>NaN</td>\n",
       "      <td>NaN</td>\n",
       "      <td>NaN</td>\n",
       "      <td>NaN</td>\n",
       "      <td>2014-07-31</td>\n",
       "      <td>7</td>\n",
       "      <td>2014</td>\n",
       "    </tr>\n",
       "    <tr>\n",
       "      <th>3</th>\n",
       "      <td>3</td>\n",
       "      <td>WBAN:00169</td>\n",
       "      <td>CHESTER AIRPORT CT US</td>\n",
       "      <td>127.1</td>\n",
       "      <td>41.384</td>\n",
       "      <td>-72.506</td>\n",
       "      <td>2014-07-31 19:15:00</td>\n",
       "      <td>FM-15</td>\n",
       "      <td>CLR:00</td>\n",
       "      <td>10.0</td>\n",
       "      <td>...</td>\n",
       "      <td>-9999</td>\n",
       "      <td>NaN</td>\n",
       "      <td>NaN</td>\n",
       "      <td>NaN</td>\n",
       "      <td>NaN</td>\n",
       "      <td>NaN</td>\n",
       "      <td>NaN</td>\n",
       "      <td>2014-07-31</td>\n",
       "      <td>7</td>\n",
       "      <td>2014</td>\n",
       "    </tr>\n",
       "    <tr>\n",
       "      <th>4</th>\n",
       "      <td>4</td>\n",
       "      <td>WBAN:00169</td>\n",
       "      <td>CHESTER AIRPORT CT US</td>\n",
       "      <td>127.1</td>\n",
       "      <td>41.384</td>\n",
       "      <td>-72.506</td>\n",
       "      <td>2014-07-31 19:35:00</td>\n",
       "      <td>FM-15</td>\n",
       "      <td>CLR:00</td>\n",
       "      <td>10.0</td>\n",
       "      <td>...</td>\n",
       "      <td>-9999</td>\n",
       "      <td>NaN</td>\n",
       "      <td>NaN</td>\n",
       "      <td>NaN</td>\n",
       "      <td>NaN</td>\n",
       "      <td>NaN</td>\n",
       "      <td>NaN</td>\n",
       "      <td>2014-07-31</td>\n",
       "      <td>7</td>\n",
       "      <td>2014</td>\n",
       "    </tr>\n",
       "  </tbody>\n",
       "</table>\n",
       "<p>5 rows × 94 columns</p>\n",
       "</div>"
      ],
      "text/plain": [
       "   Unnamed: 0     STATION           STATION_NAME  ELEVATION  LATITUDE  \\\n",
       "0           0  WBAN:00169  CHESTER AIRPORT CT US      127.1    41.384   \n",
       "1           1  WBAN:00169  CHESTER AIRPORT CT US      127.1    41.384   \n",
       "2           2  WBAN:00169  CHESTER AIRPORT CT US      127.1    41.384   \n",
       "3           3  WBAN:00169  CHESTER AIRPORT CT US      127.1    41.384   \n",
       "4           4  WBAN:00169  CHESTER AIRPORT CT US      127.1    41.384   \n",
       "\n",
       "   LONGITUDE                 DATE REPORTTPYE HOURLYSKYCONDITIONS  \\\n",
       "0    -72.506  2014-07-31 15:55:00      FM-15              CLR:00   \n",
       "1    -72.506  2014-07-31 16:15:00      FM-15              CLR:00   \n",
       "2    -72.506  2014-07-31 16:35:00      FM-15              CLR:00   \n",
       "3    -72.506  2014-07-31 19:15:00      FM-15              CLR:00   \n",
       "4    -72.506  2014-07-31 19:35:00      FM-15              CLR:00   \n",
       "\n",
       "   HOURLYVISIBILITY  ...  MonthlyMinSeaLevelPressureTime  \\\n",
       "0              10.0  ...                           -9999   \n",
       "1              10.0  ...                           -9999   \n",
       "2              10.0  ...                           -9999   \n",
       "3              10.0  ...                           -9999   \n",
       "4              10.0  ...                           -9999   \n",
       "\n",
       "   MonthlyTotalHeatingDegreeDays MonthlyTotalCoolingDegreeDays  \\\n",
       "0                            NaN                           NaN   \n",
       "1                            NaN                           NaN   \n",
       "2                            NaN                           NaN   \n",
       "3                            NaN                           NaN   \n",
       "4                            NaN                           NaN   \n",
       "\n",
       "   MonthlyDeptFromNormalHeatingDD  MonthlyDeptFromNormalCoolingDD  \\\n",
       "0                             NaN                             NaN   \n",
       "1                             NaN                             NaN   \n",
       "2                             NaN                             NaN   \n",
       "3                             NaN                             NaN   \n",
       "4                             NaN                             NaN   \n",
       "\n",
       "  MonthlyTotalSeasonToDateHeatingDD MonthlyTotalSeasonToDateCoolingDD  \\\n",
       "0                               NaN                               NaN   \n",
       "1                               NaN                               NaN   \n",
       "2                               NaN                               NaN   \n",
       "3                               NaN                               NaN   \n",
       "4                               NaN                               NaN   \n",
       "\n",
       "          DAY  MONTH  YEAR  \n",
       "0  2014-07-31      7  2014  \n",
       "1  2014-07-31      7  2014  \n",
       "2  2014-07-31      7  2014  \n",
       "3  2014-07-31      7  2014  \n",
       "4  2014-07-31      7  2014  \n",
       "\n",
       "[5 rows x 94 columns]"
      ]
     },
     "execution_count": 167,
     "metadata": {},
     "output_type": "execute_result"
    }
   ],
   "source": [
    "fname = 'Cleaned_Data.csv'\n",
    "data = DataFrame(pd.read_csv(fname, sep = ','))\n",
    "data.head()"
   ]
  },
  {
   "cell_type": "markdown",
   "metadata": {},
   "source": [
    "## Exploratory Data Analysis (original dataset)"
   ]
  },
  {
   "cell_type": "markdown",
   "metadata": {},
   "source": [
    "### Daily tmperature"
   ]
  },
  {
   "cell_type": "code",
   "execution_count": 168,
   "metadata": {
    "collapsed": false
   },
   "outputs": [],
   "source": [
    "tdata = DataFrame(data[['HOURLYDRYBULBTEMPF', 'DAY']])\n",
    "#tdata"
   ]
  },
  {
   "cell_type": "code",
   "execution_count": 169,
   "metadata": {
    "collapsed": false
   },
   "outputs": [
    {
     "data": {
      "text/html": [
       "<div>\n",
       "<table border=\"1\" class=\"dataframe\">\n",
       "  <thead>\n",
       "    <tr style=\"text-align: right;\">\n",
       "      <th></th>\n",
       "      <th>DAY</th>\n",
       "      <th>TEMPERATURE_F</th>\n",
       "    </tr>\n",
       "  </thead>\n",
       "  <tbody>\n",
       "    <tr>\n",
       "      <th>0</th>\n",
       "      <td>2014-07-31</td>\n",
       "      <td>70.411765</td>\n",
       "    </tr>\n",
       "    <tr>\n",
       "      <th>1</th>\n",
       "      <td>2014-08-01</td>\n",
       "      <td>73.527778</td>\n",
       "    </tr>\n",
       "    <tr>\n",
       "      <th>2</th>\n",
       "      <td>2014-08-02</td>\n",
       "      <td>65.956522</td>\n",
       "    </tr>\n",
       "    <tr>\n",
       "      <th>3</th>\n",
       "      <td>2014-08-03</td>\n",
       "      <td>67.040000</td>\n",
       "    </tr>\n",
       "    <tr>\n",
       "      <th>4</th>\n",
       "      <td>2014-08-04</td>\n",
       "      <td>71.425532</td>\n",
       "    </tr>\n",
       "  </tbody>\n",
       "</table>\n",
       "</div>"
      ],
      "text/plain": [
       "          DAY  TEMPERATURE_F\n",
       "0  2014-07-31      70.411765\n",
       "1  2014-08-01      73.527778\n",
       "2  2014-08-02      65.956522\n",
       "3  2014-08-03      67.040000\n",
       "4  2014-08-04      71.425532"
      ]
     },
     "execution_count": 169,
     "metadata": {},
     "output_type": "execute_result"
    }
   ],
   "source": [
    "tdata.columns = ['TEMPERATURE_F', 'DAY']\n",
    "tdata = pd.DataFrame(tdata.groupby('DAY')['TEMPERATURE_F'].mean()).reset_index()\n",
    "tdata.head()"
   ]
  },
  {
   "cell_type": "code",
   "execution_count": 170,
   "metadata": {
    "collapsed": false
   },
   "outputs": [
    {
     "data": {
      "image/png": "[encoded data removed]",
      "text/plain": [
       "<matplotlib.figure.Figure at 0x12f37ba20>"
      ]
     },
     "metadata": {},
     "output_type": "display_data"
    }
   ],
   "source": [
    "pd.options.display.mpl_style = 'default'\n",
    "daily_temp = tdata['TEMPERATURE_F'].plot(kind = \"line\",\n",
    "                          title = \"Daily Average Temperature (from July 31, 2014)\",\n",
    "                          legend = False)"
   ]
  },
  {
   "cell_type": "markdown",
   "metadata": {},
   "source": [
    "### Save the image"
   ]
  },
  {
   "cell_type": "code",
   "execution_count": 171,
   "metadata": {
    "collapsed": false
   },
   "outputs": [],
   "source": [
    "#fig = daily_temp.get_figure()\n",
    "#fig.savefig(\"Daily Average Temprature.png\")"
   ]
  },
  {
   "cell_type": "markdown",
   "metadata": {},
   "source": [
    "### Monthly temperature comparison"
   ]
  },
  {
   "cell_type": "code",
   "execution_count": 172,
   "metadata": {
    "collapsed": false
   },
   "outputs": [
    {
     "data": {
      "text/html": [
       "<div>\n",
       "<table border=\"1\" class=\"dataframe\">\n",
       "  <thead>\n",
       "    <tr style=\"text-align: right;\">\n",
       "      <th></th>\n",
       "      <th>MONTH</th>\n",
       "      <th>TEMPERATURE_F</th>\n",
       "    </tr>\n",
       "  </thead>\n",
       "  <tbody>\n",
       "    <tr>\n",
       "      <th>0</th>\n",
       "      <td>1</td>\n",
       "      <td>31.695001</td>\n",
       "    </tr>\n",
       "    <tr>\n",
       "      <th>1</th>\n",
       "      <td>2</td>\n",
       "      <td>30.890736</td>\n",
       "    </tr>\n",
       "    <tr>\n",
       "      <th>2</th>\n",
       "      <td>3</td>\n",
       "      <td>37.046565</td>\n",
       "    </tr>\n",
       "    <tr>\n",
       "      <th>3</th>\n",
       "      <td>4</td>\n",
       "      <td>49.336000</td>\n",
       "    </tr>\n",
       "    <tr>\n",
       "      <th>4</th>\n",
       "      <td>5</td>\n",
       "      <td>59.246953</td>\n",
       "    </tr>\n",
       "    <tr>\n",
       "      <th>5</th>\n",
       "      <td>6</td>\n",
       "      <td>65.922923</td>\n",
       "    </tr>\n",
       "    <tr>\n",
       "      <th>6</th>\n",
       "      <td>7</td>\n",
       "      <td>73.808083</td>\n",
       "    </tr>\n",
       "    <tr>\n",
       "      <th>7</th>\n",
       "      <td>8</td>\n",
       "      <td>72.398336</td>\n",
       "    </tr>\n",
       "    <tr>\n",
       "      <th>8</th>\n",
       "      <td>9</td>\n",
       "      <td>66.621242</td>\n",
       "    </tr>\n",
       "    <tr>\n",
       "      <th>9</th>\n",
       "      <td>10</td>\n",
       "      <td>54.382821</td>\n",
       "    </tr>\n",
       "    <tr>\n",
       "      <th>10</th>\n",
       "      <td>11</td>\n",
       "      <td>45.599590</td>\n",
       "    </tr>\n",
       "    <tr>\n",
       "      <th>11</th>\n",
       "      <td>12</td>\n",
       "      <td>39.866259</td>\n",
       "    </tr>\n",
       "  </tbody>\n",
       "</table>\n",
       "</div>"
      ],
      "text/plain": [
       "    MONTH  TEMPERATURE_F\n",
       "0       1      31.695001\n",
       "1       2      30.890736\n",
       "2       3      37.046565\n",
       "3       4      49.336000\n",
       "4       5      59.246953\n",
       "5       6      65.922923\n",
       "6       7      73.808083\n",
       "7       8      72.398336\n",
       "8       9      66.621242\n",
       "9      10      54.382821\n",
       "10     11      45.599590\n",
       "11     12      39.866259"
      ]
     },
     "execution_count": 172,
     "metadata": {},
     "output_type": "execute_result"
    }
   ],
   "source": [
    "tdata = DataFrame(data[['HOURLYDRYBULBTEMPF', 'MONTH']])\n",
    "tdata.columns = ['TEMPERATURE_F', 'MONTH']\n",
    "# groupby the dataset by month\n",
    "tdata = pd.DataFrame(tdata.groupby('MONTH')['TEMPERATURE_F'].mean()).reset_index()\n",
    "tdata"
   ]
  },
  {
   "cell_type": "code",
   "execution_count": 173,
   "metadata": {
    "collapsed": false
   },
   "outputs": [
    {
     "data": {
      "image/png": "[encoded data removed]",
      "text/plain": [
       "<matplotlib.figure.Figure at 0x12f08fef0>"
      ]
     },
     "metadata": {},
     "output_type": "display_data"
    }
   ],
   "source": [
    "sns.set_style(\"darkgrid\")\n",
    "bar_plot = sns.barplot(x=tdata[\"MONTH\"],y=tdata[\"TEMPERATURE_F\"],\n",
    "                        palette=\"muted\",)\n",
    "plt.xticks(rotation=90)\n",
    "plt.show()"
   ]
  },
  {
   "cell_type": "code",
   "execution_count": 174,
   "metadata": {
    "collapsed": false
   },
   "outputs": [
    {
     "data": {
      "text/html": [
       "<div>\n",
       "<table border=\"1\" class=\"dataframe\">\n",
       "  <thead>\n",
       "    <tr style=\"text-align: right;\">\n",
       "      <th></th>\n",
       "      <th>HOURLYDRYBULBTEMPF</th>\n",
       "      <th>MONTH</th>\n",
       "    </tr>\n",
       "  </thead>\n",
       "  <tbody>\n",
       "    <tr>\n",
       "      <th>0</th>\n",
       "      <td>77.0</td>\n",
       "      <td>7</td>\n",
       "    </tr>\n",
       "    <tr>\n",
       "      <th>1</th>\n",
       "      <td>77.0</td>\n",
       "      <td>7</td>\n",
       "    </tr>\n",
       "    <tr>\n",
       "      <th>2</th>\n",
       "      <td>75.0</td>\n",
       "      <td>7</td>\n",
       "    </tr>\n",
       "    <tr>\n",
       "      <th>3</th>\n",
       "      <td>72.0</td>\n",
       "      <td>7</td>\n",
       "    </tr>\n",
       "    <tr>\n",
       "      <th>4</th>\n",
       "      <td>70.0</td>\n",
       "      <td>7</td>\n",
       "    </tr>\n",
       "  </tbody>\n",
       "</table>\n",
       "</div>"
      ],
      "text/plain": [
       "   HOURLYDRYBULBTEMPF  MONTH\n",
       "0                77.0      7\n",
       "1                77.0      7\n",
       "2                75.0      7\n",
       "3                72.0      7\n",
       "4                70.0      7"
      ]
     },
     "execution_count": 174,
     "metadata": {},
     "output_type": "execute_result"
    }
   ],
   "source": [
    "tdata = DataFrame(data[['HOURLYDRYBULBTEMPF', 'MONTH']])\n",
    "tdata.head()"
   ]
  },
  {
   "cell_type": "code",
   "execution_count": 175,
   "metadata": {
    "collapsed": false
   },
   "outputs": [],
   "source": [
    "td1 = tdata.loc[tdata['MONTH'] == 1]\n",
    "td2 = tdata.loc[tdata['MONTH'] == 2]\n",
    "td3 = tdata.loc[tdata['MONTH'] == 3]\n",
    "td4 = tdata.loc[tdata['MONTH'] == 4]\n",
    "td5 = tdata.loc[tdata['MONTH'] == 5]\n",
    "td6 = tdata.loc[tdata['MONTH'] == 6]\n",
    "td7 = tdata.loc[tdata['MONTH'] == 7]\n",
    "td8 = tdata.loc[tdata['MONTH'] == 8]\n",
    "td9 = tdata.loc[tdata['MONTH'] == 9]\n",
    "td10 = tdata.loc[tdata['MONTH'] == 10]\n",
    "td11 = tdata.loc[tdata['MONTH'] == 11]\n",
    "td12 = tdata.loc[tdata['MONTH'] == 12]\n",
    "\n",
    "td_plot = [td1['HOURLYDRYBULBTEMPF'], td2['HOURLYDRYBULBTEMPF'], td3['HOURLYDRYBULBTEMPF'], td4['HOURLYDRYBULBTEMPF'], td5['HOURLYDRYBULBTEMPF'], td6['HOURLYDRYBULBTEMPF'], td7['HOURLYDRYBULBTEMPF'], td8['HOURLYDRYBULBTEMPF'], td9['HOURLYDRYBULBTEMPF'], td10['HOURLYDRYBULBTEMPF'], td11['HOURLYDRYBULBTEMPF'], td12['HOURLYDRYBULBTEMPF']]"
   ]
  },
  {
   "cell_type": "markdown",
   "metadata": {},
   "source": [
    "### Remove NaN"
   ]
  },
  {
   "cell_type": "code",
   "execution_count": 176,
   "metadata": {
    "collapsed": false
   },
   "outputs": [],
   "source": [
    "td1.fillna(0, inplace=True)\n",
    "td2.fillna(0, inplace=True)\n",
    "td3.fillna(0, inplace=True)\n",
    "td4.fillna(0, inplace=True)\n",
    "td5.fillna(0, inplace=True)\n",
    "td6.fillna(0, inplace=True)\n",
    "td7.fillna(0, inplace=True)\n",
    "td8.fillna(0, inplace=True)\n",
    "td9.fillna(0, inplace=True)\n",
    "td10.fillna(0, inplace=True)\n",
    "td11.fillna(0, inplace=True)\n",
    "td12.fillna(0, inplace=True)"
   ]
  },
  {
   "cell_type": "code",
   "execution_count": 177,
   "metadata": {
    "collapsed": false
   },
   "outputs": [],
   "source": [
    "for value in td3['HOURLYDRYBULBTEMPF']:\n",
    "    if math.isnan(value):\n",
    "        print(value)"
   ]
  },
  {
   "cell_type": "code",
   "execution_count": 190,
   "metadata": {
    "collapsed": false
   },
   "outputs": [
    {
     "data": {
      "text/plain": [
       "[<matplotlib.text.Text at 0x12f641208>,\n",
       " <matplotlib.text.Text at 0x12f650400>,\n",
       " <matplotlib.text.Text at 0x13120c6a0>,\n",
       " <matplotlib.text.Text at 0x13120f1d0>,\n",
       " <matplotlib.text.Text at 0x13120fcc0>,\n",
       " <matplotlib.text.Text at 0x1312137f0>,\n",
       " <matplotlib.text.Text at 0x131217320>,\n",
       " <matplotlib.text.Text at 0x131217e10>,\n",
       " <matplotlib.text.Text at 0x131219940>,\n",
       " <matplotlib.text.Text at 0x13121e470>,\n",
       " <matplotlib.text.Text at 0x13121ef60>,\n",
       " <matplotlib.text.Text at 0x131223a90>]"
      ]
     },
     "execution_count": 190,
     "metadata": {},
     "output_type": "execute_result"
    },
    {
     "data": {
      "image/png": "[encoded data removed]",
      "text/plain": [
       "<matplotlib.figure.Figure at 0x12acbca20>"
      ]
     },
     "metadata": {},
     "output_type": "display_data"
    }
   ],
   "source": [
    "fig = plt.figure(2, figsize=(9, 6))\n",
    "\n",
    "# Create an axes instance\n",
    "ax = fig.add_subplot(111)\n",
    "\n",
    "# Create the boxplot\n",
    "bp = ax.boxplot(td_plot, patch_artist = True)\n",
    "\n",
    "# Change color\n",
    "for box in bp['boxes']:\n",
    "    box.set(color = '#9400D3', linewidth = 1)\n",
    "    box.set(facecolor = '#E1FFFF')\n",
    "    \n",
    "for whisker in bp['whiskers']:\n",
    "    whisker.set(color = '#9400D3', linewidth = 2)\n",
    "\n",
    "ax.set_xticklabels(['Jan', 'Feb', 'Mar', 'Apr', 'May','Jun', 'Jul', 'Aug', 'Sep', 'Oct', 'Nov', 'Dec'])\n",
    "# Save the figure\n",
    "#fig.savefig('fig1.png', bbox_inches='tight')"
   ]
  },
  {
   "cell_type": "markdown",
   "metadata": {},
   "source": [
    "### Visibility comparison"
   ]
  },
  {
   "cell_type": "code",
   "execution_count": 179,
   "metadata": {
    "collapsed": false
   },
   "outputs": [
    {
     "data": {
      "text/html": [
       "<div>\n",
       "<table border=\"1\" class=\"dataframe\">\n",
       "  <thead>\n",
       "    <tr style=\"text-align: right;\">\n",
       "      <th></th>\n",
       "      <th>MONTH</th>\n",
       "      <th>VISIBILITY</th>\n",
       "    </tr>\n",
       "  </thead>\n",
       "  <tbody>\n",
       "    <tr>\n",
       "      <th>0</th>\n",
       "      <td>1</td>\n",
       "      <td>8.901995</td>\n",
       "    </tr>\n",
       "    <tr>\n",
       "      <th>1</th>\n",
       "      <td>2</td>\n",
       "      <td>8.634242</td>\n",
       "    </tr>\n",
       "    <tr>\n",
       "      <th>2</th>\n",
       "      <td>3</td>\n",
       "      <td>8.733614</td>\n",
       "    </tr>\n",
       "    <tr>\n",
       "      <th>3</th>\n",
       "      <td>4</td>\n",
       "      <td>8.853326</td>\n",
       "    </tr>\n",
       "    <tr>\n",
       "      <th>4</th>\n",
       "      <td>5</td>\n",
       "      <td>8.774327</td>\n",
       "    </tr>\n",
       "    <tr>\n",
       "      <th>5</th>\n",
       "      <td>6</td>\n",
       "      <td>8.999790</td>\n",
       "    </tr>\n",
       "    <tr>\n",
       "      <th>6</th>\n",
       "      <td>7</td>\n",
       "      <td>9.262629</td>\n",
       "    </tr>\n",
       "    <tr>\n",
       "      <th>7</th>\n",
       "      <td>8</td>\n",
       "      <td>9.482047</td>\n",
       "    </tr>\n",
       "    <tr>\n",
       "      <th>8</th>\n",
       "      <td>9</td>\n",
       "      <td>9.215585</td>\n",
       "    </tr>\n",
       "    <tr>\n",
       "      <th>9</th>\n",
       "      <td>10</td>\n",
       "      <td>9.175108</td>\n",
       "    </tr>\n",
       "    <tr>\n",
       "      <th>10</th>\n",
       "      <td>11</td>\n",
       "      <td>9.046814</td>\n",
       "    </tr>\n",
       "    <tr>\n",
       "      <th>11</th>\n",
       "      <td>12</td>\n",
       "      <td>8.187702</td>\n",
       "    </tr>\n",
       "  </tbody>\n",
       "</table>\n",
       "</div>"
      ],
      "text/plain": [
       "    MONTH  VISIBILITY\n",
       "0       1    8.901995\n",
       "1       2    8.634242\n",
       "2       3    8.733614\n",
       "3       4    8.853326\n",
       "4       5    8.774327\n",
       "5       6    8.999790\n",
       "6       7    9.262629\n",
       "7       8    9.482047\n",
       "8       9    9.215585\n",
       "9      10    9.175108\n",
       "10     11    9.046814\n",
       "11     12    8.187702"
      ]
     },
     "execution_count": 179,
     "metadata": {},
     "output_type": "execute_result"
    }
   ],
   "source": [
    "vdata = DataFrame(data[['HOURLYVISIBILITY', 'MONTH']])\n",
    "vdata.columns = ['VISIBILITY', 'MONTH']\n",
    "vdata = pd.DataFrame(vdata.groupby('MONTH')['VISIBILITY'].mean()).reset_index()\n",
    "vdata"
   ]
  },
  {
   "cell_type": "code",
   "execution_count": 180,
   "metadata": {
    "collapsed": false
   },
   "outputs": [
    {
     "data": {
      "image/png": "[encoded data removed]",
      "text/plain": [
       "<matplotlib.figure.Figure at 0x13327e908>"
      ]
     },
     "metadata": {},
     "output_type": "display_data"
    }
   ],
   "source": [
    "sns.set_style(\"whitegrid\")\n",
    "bar_plot = sns.barplot(x=vdata[\"MONTH\"],y=vdata[\"VISIBILITY\"],\n",
    "                        palette=\"husl\",)\n",
    "plt.xticks(rotation=90)\n",
    "plt.show()"
   ]
  },
  {
   "cell_type": "code",
   "execution_count": 181,
   "metadata": {
    "collapsed": true
   },
   "outputs": [],
   "source": [
    "fig = bar_plot.get_figure()\n",
    "fig.savefig(\"Monthly Visibility Comparison.png\")"
   ]
  },
  {
   "cell_type": "markdown",
   "metadata": {},
   "source": [
    "### Precipitation Analysis"
   ]
  },
  {
   "cell_type": "code",
   "execution_count": 182,
   "metadata": {
    "collapsed": false
   },
   "outputs": [
    {
     "data": {
      "text/html": [
       "<div>\n",
       "<table border=\"1\" class=\"dataframe\">\n",
       "  <thead>\n",
       "    <tr style=\"text-align: right;\">\n",
       "      <th></th>\n",
       "      <th>MONTH</th>\n",
       "      <th>PRECIPITATION</th>\n",
       "    </tr>\n",
       "  </thead>\n",
       "  <tbody>\n",
       "    <tr>\n",
       "      <th>0</th>\n",
       "      <td>1</td>\n",
       "      <td>191.30</td>\n",
       "    </tr>\n",
       "    <tr>\n",
       "      <th>1</th>\n",
       "      <td>2</td>\n",
       "      <td>123.86</td>\n",
       "    </tr>\n",
       "    <tr>\n",
       "      <th>2</th>\n",
       "      <td>3</td>\n",
       "      <td>104.41</td>\n",
       "    </tr>\n",
       "    <tr>\n",
       "      <th>3</th>\n",
       "      <td>4</td>\n",
       "      <td>10.50</td>\n",
       "    </tr>\n",
       "    <tr>\n",
       "      <th>4</th>\n",
       "      <td>5</td>\n",
       "      <td>0.78</td>\n",
       "    </tr>\n",
       "    <tr>\n",
       "      <th>5</th>\n",
       "      <td>6</td>\n",
       "      <td>22.83</td>\n",
       "    </tr>\n",
       "    <tr>\n",
       "      <th>6</th>\n",
       "      <td>7</td>\n",
       "      <td>12.34</td>\n",
       "    </tr>\n",
       "    <tr>\n",
       "      <th>7</th>\n",
       "      <td>8</td>\n",
       "      <td>27.13</td>\n",
       "    </tr>\n",
       "    <tr>\n",
       "      <th>8</th>\n",
       "      <td>9</td>\n",
       "      <td>28.48</td>\n",
       "    </tr>\n",
       "    <tr>\n",
       "      <th>9</th>\n",
       "      <td>10</td>\n",
       "      <td>38.76</td>\n",
       "    </tr>\n",
       "    <tr>\n",
       "      <th>10</th>\n",
       "      <td>11</td>\n",
       "      <td>38.41</td>\n",
       "    </tr>\n",
       "    <tr>\n",
       "      <th>11</th>\n",
       "      <td>12</td>\n",
       "      <td>36.05</td>\n",
       "    </tr>\n",
       "  </tbody>\n",
       "</table>\n",
       "</div>"
      ],
      "text/plain": [
       "    MONTH  PRECIPITATION\n",
       "0       1         191.30\n",
       "1       2         123.86\n",
       "2       3         104.41\n",
       "3       4          10.50\n",
       "4       5           0.78\n",
       "5       6          22.83\n",
       "6       7          12.34\n",
       "7       8          27.13\n",
       "8       9          28.48\n",
       "9      10          38.76\n",
       "10     11          38.41\n",
       "11     12          36.05"
      ]
     },
     "execution_count": 182,
     "metadata": {},
     "output_type": "execute_result"
    }
   ],
   "source": [
    "#ypdata = ypdata.loc[ypdata['YEAR'] == 2016]\n",
    "pdata = DataFrame(data[['HOURLYPrecip', 'MONTH']])\n",
    "pdata.columns = ['PRECIPITATION', 'MONTH']\n",
    "pdata = pd.DataFrame(pdata.groupby('MONTH')['PRECIPITATION'].sum()).reset_index()\n",
    "pdata"
   ]
  },
  {
   "cell_type": "code",
   "execution_count": 183,
   "metadata": {
    "collapsed": false
   },
   "outputs": [
    {
     "data": {
      "image/png": "[encoded data removed]",
      "text/plain": [
       "<matplotlib.figure.Figure at 0x1224ac710>"
      ]
     },
     "metadata": {},
     "output_type": "display_data"
    }
   ],
   "source": [
    "pd.options.display.mpl_style = 'default'\n",
    "monthly_prec = pdata['PRECIPITATION'].plot(kind = \"line\",\n",
    "                          title = \"Precipitation\",\n",
    "                          legend = False)"
   ]
  },
  {
   "cell_type": "code",
   "execution_count": 184,
   "metadata": {
    "collapsed": false
   },
   "outputs": [
    {
     "data": {
      "image/png": "[encoded data removed]",
      "text/plain": [
       "<matplotlib.figure.Figure at 0x1320899b0>"
      ]
     },
     "metadata": {},
     "output_type": "display_data"
    }
   ],
   "source": [
    "sns.set_style(\"whitegrid\")\n",
    "bar_plot = sns.barplot(x=pdata[\"MONTH\"],y=pdata[\"PRECIPITATION\"],\n",
    "                        palette=\"husl\",)\n",
    "plt.xticks(rotation=90)\n",
    "plt.show()"
   ]
  },
  {
   "cell_type": "code",
   "execution_count": 185,
   "metadata": {
    "collapsed": true
   },
   "outputs": [],
   "source": [
    "#fig = monthly_prec.get_figure()\n",
    "#fig.savefig(\"Monthly Visibility Comparison.png\")"
   ]
  },
  {
   "cell_type": "markdown",
   "metadata": {},
   "source": [
    "### The relationship among wetbulbtemperature, drybulbtemperature, and humidity"
   ]
  },
  {
   "cell_type": "code",
   "execution_count": 188,
   "metadata": {
    "collapsed": false
   },
   "outputs": [
    {
     "data": {
      "text/html": [
       "<div>\n",
       "<table border=\"1\" class=\"dataframe\">\n",
       "  <thead>\n",
       "    <tr style=\"text-align: right;\">\n",
       "      <th></th>\n",
       "      <th>DIFFERENCE_WD</th>\n",
       "      <th>HOURLYRelativeHumidity</th>\n",
       "      <th>MONTH</th>\n",
       "      <th>HOURLYWindSpeed</th>\n",
       "      <th>HOURLYDRYBULBTEMPF</th>\n",
       "    </tr>\n",
       "  </thead>\n",
       "  <tbody>\n",
       "    <tr>\n",
       "      <th>0</th>\n",
       "      <td>9.0</td>\n",
       "      <td>57.0</td>\n",
       "      <td>7</td>\n",
       "      <td>14.0</td>\n",
       "      <td>77.0</td>\n",
       "    </tr>\n",
       "    <tr>\n",
       "      <th>1</th>\n",
       "      <td>9.0</td>\n",
       "      <td>57.0</td>\n",
       "      <td>7</td>\n",
       "      <td>10.0</td>\n",
       "      <td>77.0</td>\n",
       "    </tr>\n",
       "    <tr>\n",
       "      <th>2</th>\n",
       "      <td>8.0</td>\n",
       "      <td>61.0</td>\n",
       "      <td>7</td>\n",
       "      <td>10.0</td>\n",
       "      <td>75.0</td>\n",
       "    </tr>\n",
       "    <tr>\n",
       "      <th>3</th>\n",
       "      <td>7.0</td>\n",
       "      <td>69.0</td>\n",
       "      <td>7</td>\n",
       "      <td>7.0</td>\n",
       "      <td>72.0</td>\n",
       "    </tr>\n",
       "    <tr>\n",
       "      <th>34</th>\n",
       "      <td>3.0</td>\n",
       "      <td>88.0</td>\n",
       "      <td>8</td>\n",
       "      <td>5.0</td>\n",
       "      <td>72.0</td>\n",
       "    </tr>\n",
       "  </tbody>\n",
       "</table>\n",
       "</div>"
      ],
      "text/plain": [
       "    DIFFERENCE_WD  HOURLYRelativeHumidity  MONTH  HOURLYWindSpeed  \\\n",
       "0             9.0                    57.0      7             14.0   \n",
       "1             9.0                    57.0      7             10.0   \n",
       "2             8.0                    61.0      7             10.0   \n",
       "3             7.0                    69.0      7              7.0   \n",
       "34            3.0                    88.0      8              5.0   \n",
       "\n",
       "    HOURLYDRYBULBTEMPF  \n",
       "0                 77.0  \n",
       "1                 77.0  \n",
       "2                 75.0  \n",
       "3                 72.0  \n",
       "34                72.0  "
      ]
     },
     "execution_count": 188,
     "metadata": {},
     "output_type": "execute_result"
    }
   ],
   "source": [
    "data['DIFFERENCE_WD'] = data['HOURLYDRYBULBTEMPF'] - data['HOURLYWETBULBTEMPF']\n",
    "#data\n",
    "thdata = data\n",
    "thdata = thdata.loc[(thdata['HOURLYDRYBULBTEMPF'] > 70) & (thdata['HOURLYDRYBULBTEMPF'] < 80) & (thdata['HOURLYRelativeHumidity'] > 50)]\n",
    "thdata = DataFrame(thdata[['DIFFERENCE_WD', 'HOURLYRelativeHumidity', 'MONTH', 'HOURLYWindSpeed', 'HOURLYDRYBULBTEMPF']])\n",
    "thdata.head()"
   ]
  },
  {
   "cell_type": "code",
   "execution_count": 187,
   "metadata": {
    "collapsed": false
   },
   "outputs": [
    {
     "data": {
      "image/png": "[encoded data removed]",
      "text/plain": [
       "<matplotlib.figure.Figure at 0x1224a77f0>"
      ]
     },
     "metadata": {},
     "output_type": "display_data"
    }
   ],
   "source": [
    "plt.scatter(thdata['HOURLYRelativeHumidity'], thdata['DIFFERENCE_WD'], c = 'g', alpha = 0.5)\n",
    "plt.title('Scatter plot of Humidity and D-W_difference')\n",
    "plt.show()"
   ]
  }
 ],
 "metadata": {
  "anaconda-cloud": {},
  "kernelspec": {
   "display_name": "Python [default]",
   "language": "python",
   "name": "python3"
  },
  "language_info": {
   "codemirror_mode": {
    "name": "ipython",
    "version": 3
   },
   "file_extension": ".py",
   "mimetype": "text/x-python",
   "name": "python",
   "nbconvert_exporter": "python",
   "pygments_lexer": "ipython3",
   "version": "3.5.2"
  }
 },
 "nbformat": 4,
 "nbformat_minor": 1
}
