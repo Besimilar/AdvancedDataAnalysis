{
 "cells": [
  {
   "cell_type": "code",
   "execution_count": 1,
   "metadata": {
    "collapsed": true
   },
   "outputs": [],
   "source": [
    "from pandas import DataFrame\n",
    "import pandas as pd"
   ]
  },
  {
   "cell_type": "code",
   "execution_count": 5,
   "metadata": {},
   "outputs": [],
   "source": [
    "data = pd.read_csv('ZillowData.csv', usecols=['parcelid', 'latitude', 'longitude'], sep=',')"
   ]
  },
  {
   "cell_type": "code",
   "execution_count": 8,
   "metadata": {},
   "outputs": [
    {
     "data": {
      "text/plain": [
       "2985217"
      ]
     },
     "execution_count": 8,
     "metadata": {},
     "output_type": "execute_result"
    }
   ],
   "source": [
    "len(data)"
   ]
  },
  {
   "cell_type": "code",
   "execution_count": 15,
   "metadata": {
    "collapsed": true
   },
   "outputs": [],
   "source": [
    "cleanData = data.dropna()"
   ]
  },
  {
   "cell_type": "code",
   "execution_count": 17,
   "metadata": {},
   "outputs": [
    {
     "data": {
      "text/plain": [
       "2973780"
      ]
     },
     "execution_count": 17,
     "metadata": {},
     "output_type": "execute_result"
    }
   ],
   "source": [
    "len(cleanData)"
   ]
  },
  {
   "cell_type": "code",
   "execution_count": 21,
   "metadata": {},
   "outputs": [
    {
     "data": {
      "text/html": [
       "<div>\n",
       "<table border=\"1\" class=\"dataframe\">\n",
       "  <thead>\n",
       "    <tr style=\"text-align: right;\">\n",
       "      <th></th>\n",
       "      <th>parcelid</th>\n",
       "      <th>latitude</th>\n",
       "      <th>longitude</th>\n",
       "    </tr>\n",
       "  </thead>\n",
       "  <tbody>\n",
       "    <tr>\n",
       "      <th>2973775</th>\n",
       "      <td>11366340</td>\n",
       "      <td>34769356.0</td>\n",
       "      <td>-118553521.0</td>\n",
       "    </tr>\n",
       "    <tr>\n",
       "      <th>2973776</th>\n",
       "      <td>13010327</td>\n",
       "      <td>34087735.0</td>\n",
       "      <td>-118063008.0</td>\n",
       "    </tr>\n",
       "    <tr>\n",
       "      <th>2973777</th>\n",
       "      <td>12385768</td>\n",
       "      <td>33951985.0</td>\n",
       "      <td>-118124097.0</td>\n",
       "    </tr>\n",
       "    <tr>\n",
       "      <th>2973778</th>\n",
       "      <td>11795063</td>\n",
       "      <td>34041100.0</td>\n",
       "      <td>-118234000.0</td>\n",
       "    </tr>\n",
       "    <tr>\n",
       "      <th>2973779</th>\n",
       "      <td>11818454</td>\n",
       "      <td>34080847.0</td>\n",
       "      <td>-118160178.0</td>\n",
       "    </tr>\n",
       "  </tbody>\n",
       "</table>\n",
       "</div>"
      ],
      "text/plain": [
       "         parcelid    latitude    longitude\n",
       "2973775  11366340  34769356.0 -118553521.0\n",
       "2973776  13010327  34087735.0 -118063008.0\n",
       "2973777  12385768  33951985.0 -118124097.0\n",
       "2973778  11795063  34041100.0 -118234000.0\n",
       "2973779  11818454  34080847.0 -118160178.0"
      ]
     },
     "execution_count": 21,
     "metadata": {},
     "output_type": "execute_result"
    }
   ],
   "source": [
    "cleanData.tail()"
   ]
  },
  {
   "cell_type": "code",
   "execution_count": null,
   "metadata": {
    "collapsed": true
   },
   "outputs": [],
   "source": []
  }
 ],
 "metadata": {
  "anaconda-cloud": {},
  "kernelspec": {
   "display_name": "Python [default]",
   "language": "python",
   "name": "python3"
  },
  "language_info": {
   "codemirror_mode": {
    "name": "ipython",
    "version": 3
   },
   "file_extension": ".py",
   "mimetype": "text/x-python",
   "name": "python",
   "nbconvert_exporter": "python",
   "pygments_lexer": "ipython3",
   "version": "3.5.3"
  }
 },
 "nbformat": 4,
 "nbformat_minor": 1
}
