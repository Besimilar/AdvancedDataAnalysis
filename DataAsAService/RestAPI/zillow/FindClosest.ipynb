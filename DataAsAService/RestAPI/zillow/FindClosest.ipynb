{
 "cells": [
  {
   "cell_type": "code",
   "execution_count": 38,
   "metadata": {
    "collapsed": true
   },
   "outputs": [],
   "source": [
    "from pandas import DataFrame\n",
    "import pandas as pd\n",
    "from geopy.distance import vincenty"
   ]
  },
  {
   "cell_type": "code",
   "execution_count": 45,
   "metadata": {},
   "outputs": [],
   "source": [
    "data = pd.read_csv('ZillowData.csv', usecols=['parcelid', 'latitude', 'longitude'], sep=',')"
   ]
  },
  {
   "cell_type": "code",
   "execution_count": 46,
   "metadata": {},
   "outputs": [
    {
     "data": {
      "text/plain": [
       "-117554316.0"
      ]
     },
     "execution_count": 46,
     "metadata": {},
     "output_type": "execute_result"
    }
   ],
   "source": [
    "max(data['longitude'])"
   ]
  },
  {
   "cell_type": "code",
   "execution_count": 8,
   "metadata": {},
   "outputs": [
    {
     "data": {
      "text/plain": [
       "2985217"
      ]
     },
     "execution_count": 8,
     "metadata": {},
     "output_type": "execute_result"
    }
   ],
   "source": [
    "len(data)"
   ]
  },
  {
   "cell_type": "code",
   "execution_count": 15,
   "metadata": {
    "collapsed": true
   },
   "outputs": [],
   "source": [
    "cleanData = data.dropna()"
   ]
  },
  {
   "cell_type": "code",
   "execution_count": 17,
   "metadata": {},
   "outputs": [
    {
     "data": {
      "text/plain": [
       "2973780"
      ]
     },
     "execution_count": 17,
     "metadata": {},
     "output_type": "execute_result"
    }
   ],
   "source": [
    "len(cleanData)"
   ]
  },
  {
   "cell_type": "code",
   "execution_count": 41,
   "metadata": {},
   "outputs": [
    {
     "data": {
      "text/plain": [
       "34819650.0"
      ]
     },
     "execution_count": 41,
     "metadata": {},
     "output_type": "execute_result"
    }
   ],
   "source": [
    "max(cleanData['latitude'])"
   ]
  },
  {
   "cell_type": "code",
   "execution_count": 42,
   "metadata": {},
   "outputs": [
    {
     "data": {
      "text/plain": [
       "33324388.0"
      ]
     },
     "execution_count": 42,
     "metadata": {},
     "output_type": "execute_result"
    }
   ],
   "source": [
    "min(cleanData['latitude'])"
   ]
  },
  {
   "cell_type": "code",
   "execution_count": 43,
   "metadata": {},
   "outputs": [
    {
     "data": {
      "text/plain": [
       "-117554316.0"
      ]
     },
     "execution_count": 43,
     "metadata": {},
     "output_type": "execute_result"
    }
   ],
   "source": [
    "max(cleanData['longitude'])"
   ]
  },
  {
   "cell_type": "code",
   "execution_count": 44,
   "metadata": {},
   "outputs": [
    {
     "data": {
      "text/plain": [
       "-119475780.0"
      ]
     },
     "execution_count": 44,
     "metadata": {},
     "output_type": "execute_result"
    }
   ],
   "source": [
    "min(cleanData['longitude'])"
   ]
  },
  {
   "cell_type": "code",
   "execution_count": 21,
   "metadata": {},
   "outputs": [
    {
     "data": {
      "text/html": [
       "<div>\n",
       "<table border=\"1\" class=\"dataframe\">\n",
       "  <thead>\n",
       "    <tr style=\"text-align: right;\">\n",
       "      <th></th>\n",
       "      <th>parcelid</th>\n",
       "      <th>latitude</th>\n",
       "      <th>longitude</th>\n",
       "    </tr>\n",
       "  </thead>\n",
       "  <tbody>\n",
       "    <tr>\n",
       "      <th>2973775</th>\n",
       "      <td>11366340</td>\n",
       "      <td>34769356.0</td>\n",
       "      <td>-118553521.0</td>\n",
       "    </tr>\n",
       "    <tr>\n",
       "      <th>2973776</th>\n",
       "      <td>13010327</td>\n",
       "      <td>34087735.0</td>\n",
       "      <td>-118063008.0</td>\n",
       "    </tr>\n",
       "    <tr>\n",
       "      <th>2973777</th>\n",
       "      <td>12385768</td>\n",
       "      <td>33951985.0</td>\n",
       "      <td>-118124097.0</td>\n",
       "    </tr>\n",
       "    <tr>\n",
       "      <th>2973778</th>\n",
       "      <td>11795063</td>\n",
       "      <td>34041100.0</td>\n",
       "      <td>-118234000.0</td>\n",
       "    </tr>\n",
       "    <tr>\n",
       "      <th>2973779</th>\n",
       "      <td>11818454</td>\n",
       "      <td>34080847.0</td>\n",
       "      <td>-118160178.0</td>\n",
       "    </tr>\n",
       "  </tbody>\n",
       "</table>\n",
       "</div>"
      ],
      "text/plain": [
       "         parcelid    latitude    longitude\n",
       "2973775  11366340  34769356.0 -118553521.0\n",
       "2973776  13010327  34087735.0 -118063008.0\n",
       "2973777  12385768  33951985.0 -118124097.0\n",
       "2973778  11795063  34041100.0 -118234000.0\n",
       "2973779  11818454  34080847.0 -118160178.0"
      ]
     },
     "execution_count": 21,
     "metadata": {},
     "output_type": "execute_result"
    }
   ],
   "source": [
    "cleanData.tail()"
   ]
  },
  {
   "cell_type": "code",
   "execution_count": 22,
   "metadata": {
    "collapsed": true
   },
   "outputs": [],
   "source": [
    "sample = cleanData[0:10]"
   ]
  },
  {
   "cell_type": "code",
   "execution_count": 32,
   "metadata": {},
   "outputs": [
    {
     "data": {
      "text/html": [
       "<div>\n",
       "<table border=\"1\" class=\"dataframe\">\n",
       "  <thead>\n",
       "    <tr style=\"text-align: right;\">\n",
       "      <th></th>\n",
       "      <th>parcelid</th>\n",
       "      <th>latitude</th>\n",
       "      <th>longitude</th>\n",
       "    </tr>\n",
       "  </thead>\n",
       "  <tbody>\n",
       "    <tr>\n",
       "      <th>0</th>\n",
       "      <td>10754147</td>\n",
       "      <td>34144442.0</td>\n",
       "      <td>-118654084.0</td>\n",
       "    </tr>\n",
       "    <tr>\n",
       "      <th>1</th>\n",
       "      <td>10759547</td>\n",
       "      <td>34140430.0</td>\n",
       "      <td>-118625364.0</td>\n",
       "    </tr>\n",
       "    <tr>\n",
       "      <th>2</th>\n",
       "      <td>10843547</td>\n",
       "      <td>33989359.0</td>\n",
       "      <td>-118394633.0</td>\n",
       "    </tr>\n",
       "    <tr>\n",
       "      <th>3</th>\n",
       "      <td>10859147</td>\n",
       "      <td>34148863.0</td>\n",
       "      <td>-118437206.0</td>\n",
       "    </tr>\n",
       "    <tr>\n",
       "      <th>4</th>\n",
       "      <td>10879947</td>\n",
       "      <td>34194168.0</td>\n",
       "      <td>-118385816.0</td>\n",
       "    </tr>\n",
       "    <tr>\n",
       "      <th>5</th>\n",
       "      <td>10898347</td>\n",
       "      <td>34171873.0</td>\n",
       "      <td>-118380906.0</td>\n",
       "    </tr>\n",
       "    <tr>\n",
       "      <th>6</th>\n",
       "      <td>10933547</td>\n",
       "      <td>34131929.0</td>\n",
       "      <td>-118351474.0</td>\n",
       "    </tr>\n",
       "    <tr>\n",
       "      <th>7</th>\n",
       "      <td>10940747</td>\n",
       "      <td>34171345.0</td>\n",
       "      <td>-118314900.0</td>\n",
       "    </tr>\n",
       "    <tr>\n",
       "      <th>8</th>\n",
       "      <td>10954547</td>\n",
       "      <td>34218210.0</td>\n",
       "      <td>-118331311.0</td>\n",
       "    </tr>\n",
       "    <tr>\n",
       "      <th>9</th>\n",
       "      <td>10976347</td>\n",
       "      <td>34289776.0</td>\n",
       "      <td>-118432085.0</td>\n",
       "    </tr>\n",
       "  </tbody>\n",
       "</table>\n",
       "</div>"
      ],
      "text/plain": [
       "   parcelid    latitude    longitude\n",
       "0  10754147  34144442.0 -118654084.0\n",
       "1  10759547  34140430.0 -118625364.0\n",
       "2  10843547  33989359.0 -118394633.0\n",
       "3  10859147  34148863.0 -118437206.0\n",
       "4  10879947  34194168.0 -118385816.0\n",
       "5  10898347  34171873.0 -118380906.0\n",
       "6  10933547  34131929.0 -118351474.0\n",
       "7  10940747  34171345.0 -118314900.0\n",
       "8  10954547  34218210.0 -118331311.0\n",
       "9  10976347  34289776.0 -118432085.0"
      ]
     },
     "execution_count": 32,
     "metadata": {},
     "output_type": "execute_result"
    }
   ],
   "source": [
    "sample"
   ]
  },
  {
   "cell_type": "code",
   "execution_count": 34,
   "metadata": {},
   "outputs": [
    {
     "name": "stdout",
     "output_type": "stream",
     "text": [
      "Pandas(Index=0, parcelid=10754147, latitude=34144442.0, longitude=-118654084.0)\n",
      "Pandas(Index=1, parcelid=10759547, latitude=34140430.0, longitude=-118625364.0)\n",
      "Pandas(Index=2, parcelid=10843547, latitude=33989359.0, longitude=-118394633.0)\n",
      "Pandas(Index=3, parcelid=10859147, latitude=34148863.0, longitude=-118437206.0)\n",
      "Pandas(Index=4, parcelid=10879947, latitude=34194168.0, longitude=-118385816.0)\n",
      "Pandas(Index=5, parcelid=10898347, latitude=34171873.0, longitude=-118380906.0)\n",
      "Pandas(Index=6, parcelid=10933547, latitude=34131929.0, longitude=-118351474.0)\n",
      "Pandas(Index=7, parcelid=10940747, latitude=34171345.0, longitude=-118314900.0)\n",
      "Pandas(Index=8, parcelid=10954547, latitude=34218210.0, longitude=-118331311.0)\n",
      "Pandas(Index=9, parcelid=10976347, latitude=34289776.0, longitude=-118432085.0)\n"
     ]
    }
   ],
   "source": [
    "for item in sample.itertuples():\n",
    "    print(item)"
   ]
  },
  {
   "cell_type": "code",
   "execution_count": 39,
   "metadata": {},
   "outputs": [],
   "source": [
    "curLoc = (34, -118)\n",
    "id = []\n",
    "distance = []\n",
    "latitudes = []\n",
    "longitudes = []\n",
    "\n",
    "for item in sample.itertuples():\n",
    "    lat = item[2] / 1000000\n",
    "    long = item[3] / 1000000\n",
    "    dis = vincenty(curLoc, (lat, long)).miles\n",
    "    id.append(item[1])\n",
    "    distance.append(dis)\n",
    "    latitudes.append(lat)\n",
    "    longitudes.append(long)\n",
    "\n",
    "data = DataFrame({'id': id, 'latitude': latitudes, 'longitude': longitudes, 'distance': distance})"
   ]
  },
  {
   "cell_type": "code",
   "execution_count": 40,
   "metadata": {},
   "outputs": [
    {
     "data": {
      "text/html": [
       "<div>\n",
       "<table border=\"1\" class=\"dataframe\">\n",
       "  <thead>\n",
       "    <tr style=\"text-align: right;\">\n",
       "      <th></th>\n",
       "      <th>distance</th>\n",
       "      <th>id</th>\n",
       "      <th>latitude</th>\n",
       "      <th>longitude</th>\n",
       "    </tr>\n",
       "  </thead>\n",
       "  <tbody>\n",
       "    <tr>\n",
       "      <th>0</th>\n",
       "      <td>38.814453</td>\n",
       "      <td>10754147</td>\n",
       "      <td>34.144442</td>\n",
       "      <td>-118.654084</td>\n",
       "    </tr>\n",
       "    <tr>\n",
       "      <th>1</th>\n",
       "      <td>37.152502</td>\n",
       "      <td>10759547</td>\n",
       "      <td>34.140430</td>\n",
       "      <td>-118.625364</td>\n",
       "    </tr>\n",
       "    <tr>\n",
       "      <th>2</th>\n",
       "      <td>22.667270</td>\n",
       "      <td>10843547</td>\n",
       "      <td>33.989359</td>\n",
       "      <td>-118.394633</td>\n",
       "    </tr>\n",
       "    <tr>\n",
       "      <th>3</th>\n",
       "      <td>27.093895</td>\n",
       "      <td>10859147</td>\n",
       "      <td>34.148863</td>\n",
       "      <td>-118.437206</td>\n",
       "    </tr>\n",
       "    <tr>\n",
       "      <th>4</th>\n",
       "      <td>25.855658</td>\n",
       "      <td>10879947</td>\n",
       "      <td>34.194168</td>\n",
       "      <td>-118.385816</td>\n",
       "    </tr>\n",
       "    <tr>\n",
       "      <th>5</th>\n",
       "      <td>24.849402</td>\n",
       "      <td>10898347</td>\n",
       "      <td>34.171873</td>\n",
       "      <td>-118.380906</td>\n",
       "    </tr>\n",
       "    <tr>\n",
       "      <th>6</th>\n",
       "      <td>22.116610</td>\n",
       "      <td>10933547</td>\n",
       "      <td>34.131929</td>\n",
       "      <td>-118.351474</td>\n",
       "    </tr>\n",
       "    <tr>\n",
       "      <th>7</th>\n",
       "      <td>21.577584</td>\n",
       "      <td>10940747</td>\n",
       "      <td>34.171345</td>\n",
       "      <td>-118.314900</td>\n",
       "    </tr>\n",
       "    <tr>\n",
       "      <th>8</th>\n",
       "      <td>24.228116</td>\n",
       "      <td>10954547</td>\n",
       "      <td>34.218210</td>\n",
       "      <td>-118.331311</td>\n",
       "    </tr>\n",
       "    <tr>\n",
       "      <th>9</th>\n",
       "      <td>31.812899</td>\n",
       "      <td>10976347</td>\n",
       "      <td>34.289776</td>\n",
       "      <td>-118.432085</td>\n",
       "    </tr>\n",
       "  </tbody>\n",
       "</table>\n",
       "</div>"
      ],
      "text/plain": [
       "    distance        id   latitude   longitude\n",
       "0  38.814453  10754147  34.144442 -118.654084\n",
       "1  37.152502  10759547  34.140430 -118.625364\n",
       "2  22.667270  10843547  33.989359 -118.394633\n",
       "3  27.093895  10859147  34.148863 -118.437206\n",
       "4  25.855658  10879947  34.194168 -118.385816\n",
       "5  24.849402  10898347  34.171873 -118.380906\n",
       "6  22.116610  10933547  34.131929 -118.351474\n",
       "7  21.577584  10940747  34.171345 -118.314900\n",
       "8  24.228116  10954547  34.218210 -118.331311\n",
       "9  31.812899  10976347  34.289776 -118.432085"
      ]
     },
     "execution_count": 40,
     "metadata": {},
     "output_type": "execute_result"
    }
   ],
   "source": [
    "data"
   ]
  },
  {
   "cell_type": "code",
   "execution_count": null,
   "metadata": {
    "collapsed": true
   },
   "outputs": [],
   "source": []
  }
 ],
 "metadata": {
  "anaconda-cloud": {},
  "kernelspec": {
   "display_name": "Python [default]",
   "language": "python",
   "name": "python3"
  },
  "language_info": {
   "codemirror_mode": {
    "name": "ipython",
    "version": 3
   },
   "file_extension": ".py",
   "mimetype": "text/x-python",
   "name": "python",
   "nbconvert_exporter": "python",
   "pygments_lexer": "ipython3",
   "version": "3.5.3"
  }
 },
 "nbformat": 4,
 "nbformat_minor": 1
}
