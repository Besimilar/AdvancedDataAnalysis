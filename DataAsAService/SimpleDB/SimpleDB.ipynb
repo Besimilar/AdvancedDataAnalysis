{
 "cells": [
  {
   "cell_type": "markdown",
   "metadata": {},
   "source": [
    "# 1. Load data"
   ]
  },
  {
   "cell_type": "code",
   "execution_count": 2,
   "metadata": {
    "collapsed": true
   },
   "outputs": [],
   "source": [
    "import pandas as pd"
   ]
  },
  {
   "cell_type": "code",
   "execution_count": 155,
   "metadata": {
    "collapsed": true
   },
   "outputs": [],
   "source": [
    "cleanData = \"simple.csv\"\n",
    "data = pd.read_csv(cleanData, sep=',')"
   ]
  },
  {
   "cell_type": "code",
   "execution_count": 157,
   "metadata": {
    "collapsed": true
   },
   "outputs": [],
   "source": [
    "data = data.ix[:, ['parcelid', 'latitude', 'longitude']]"
   ]
  },
  {
   "cell_type": "code",
   "execution_count": 158,
   "metadata": {},
   "outputs": [
    {
     "data": {
      "text/html": [
       "<div>\n",
       "<table border=\"1\" class=\"dataframe\">\n",
       "  <thead>\n",
       "    <tr style=\"text-align: right;\">\n",
       "      <th></th>\n",
       "      <th>parcelid</th>\n",
       "      <th>latitude</th>\n",
       "      <th>longitude</th>\n",
       "    </tr>\n",
       "  </thead>\n",
       "  <tbody>\n",
       "    <tr>\n",
       "      <th>0</th>\n",
       "      <td>10754147</td>\n",
       "      <td>34144442</td>\n",
       "      <td>-118654084</td>\n",
       "    </tr>\n",
       "    <tr>\n",
       "      <th>1</th>\n",
       "      <td>10759547</td>\n",
       "      <td>34140430</td>\n",
       "      <td>-118625364</td>\n",
       "    </tr>\n",
       "    <tr>\n",
       "      <th>2</th>\n",
       "      <td>10843547</td>\n",
       "      <td>33989359</td>\n",
       "      <td>-118394633</td>\n",
       "    </tr>\n",
       "    <tr>\n",
       "      <th>3</th>\n",
       "      <td>10859147</td>\n",
       "      <td>34148863</td>\n",
       "      <td>-118437206</td>\n",
       "    </tr>\n",
       "    <tr>\n",
       "      <th>4</th>\n",
       "      <td>10879947</td>\n",
       "      <td>34194168</td>\n",
       "      <td>-118385816</td>\n",
       "    </tr>\n",
       "  </tbody>\n",
       "</table>\n",
       "</div>"
      ],
      "text/plain": [
       "   parcelid  latitude  longitude\n",
       "0  10754147  34144442 -118654084\n",
       "1  10759547  34140430 -118625364\n",
       "2  10843547  33989359 -118394633\n",
       "3  10859147  34148863 -118437206\n",
       "4  10879947  34194168 -118385816"
      ]
     },
     "execution_count": 158,
     "metadata": {},
     "output_type": "execute_result"
    }
   ],
   "source": [
    "data.head()"
   ]
  },
  {
   "cell_type": "code",
   "execution_count": 13,
   "metadata": {},
   "outputs": [
    {
     "data": {
      "text/plain": [
       "3000"
      ]
     },
     "execution_count": 13,
     "metadata": {},
     "output_type": "execute_result"
    }
   ],
   "source": [
    "data.size"
   ]
  },
  {
   "cell_type": "markdown",
   "metadata": {},
   "source": [
    "# 2. Pack rows into items"
   ]
  },
  {
   "cell_type": "code",
   "execution_count": 51,
   "metadata": {},
   "outputs": [
    {
     "name": "stdout",
     "output_type": "stream",
     "text": [
      "parcelid\n",
      "latitude\n",
      "longitude\n"
     ]
    }
   ],
   "source": [
    "for attribute in data:\n",
    "    print(attribute)"
   ]
  },
  {
   "cell_type": "code",
   "execution_count": 52,
   "metadata": {},
   "outputs": [
    {
     "name": "stdout",
     "output_type": "stream",
     "text": [
      "24 11417147 33931500 -118352104\n",
      "49 11818747 34072919 -118164004\n",
      "74 12168547 34192420 -118125270\n",
      "99 12560547 33770013 -118192643\n",
      "124 13114547 34189273 -118545075\n",
      "149 13119547 34556011 -118108992\n",
      "174 13124547 33894127 -118177435\n",
      "199 13129547 33724619 -118326045\n",
      "224 13134547 34094771 -118030187\n",
      "249 14281747 33646579 -117902609\n",
      "274 17099147 34355400 -119060000\n",
      "299 17053061 34450089 -119277534\n",
      "324 17059050 34419017 -119296402\n",
      "349 17071718 34291597 -119215150\n",
      "374 17076371 34285792 -119286112\n",
      "399 17082901 34276290 -119242263\n",
      "424 17088082 34276556 -119221434\n",
      "449 17093924 34280827 -119184952\n",
      "474 17101256 34353550 -119070604\n",
      "499 17108342 34275276 -119162139\n",
      "524 17117469 34225441 -119193245\n",
      "549 17124214 34243663 -119034397\n",
      "574 17134043 34229754 -119041686\n",
      "599 17138635 34226559 -119023719\n",
      "624 17142856 34235797 -118985462\n",
      "649 17148943 34194812 -119198166\n",
      "674 17155428 34180959 -119218107\n",
      "699 17161014 34217783 -119186066\n",
      "724 17168364 34168089 -119179610\n",
      "749 17174287 34149885 -119188224\n",
      "774 17184035 34151900 -119178000\n",
      "799 17196822 34273201 -118905962\n",
      "824 17203838 34287402 -118873594\n",
      "849 17211731 34209222 -118879786\n",
      "874 17217541 34217104 -118816565\n",
      "899 17223154 34238617 -118813281\n",
      "924 17228257 34284539 -118738921\n",
      "949 17234977 34278788 -118712923\n",
      "974 17241480 34242499 -118773647\n",
      "999 17248951 34258852 -118780435\n"
     ]
    }
   ],
   "source": [
    "for index, item in data.iterrows():\n",
    "    if (index % 25 == 24):\n",
    "        print(index, item['parcelid'], item['latitude'], item['longitude'])"
   ]
  },
  {
   "cell_type": "code",
   "execution_count": 112,
   "metadata": {},
   "outputs": [
    {
     "name": "stdout",
     "output_type": "stream",
     "text": [
      "    parcelid  latitude  longitude\n",
      "0   10754147  34144442 -118654084\n",
      "1   10759547  34140430 -118625364\n",
      "2   10843547  33989359 -118394633\n",
      "3   10859147  34148863 -118437206\n",
      "4   10879947  34194168 -118385816\n",
      "5   10898347  34171873 -118380906\n",
      "6   10933547  34131929 -118351474\n",
      "7   10940747  34171345 -118314900\n",
      "8   10954547  34218210 -118331311\n",
      "9   10976347  34289776 -118432085\n",
      "10  11073947  34265214 -118520217\n",
      "11  11114347  34447747 -118565056\n",
      "12  11116947  34465048 -118568166\n",
      "13  11142747  34416889 -118505805\n",
      "14  11193347  34585014 -118162010\n",
      "15  11215747  34563376 -118019104\n",
      "16  11229347  34526913 -118050581\n",
      "17  11287347  34690736 -118135225\n",
      "18  11288547  34733960 -118139298\n",
      "19  11324547  34560018 -118169806\n",
      "20  11391347  33986910 -118329553\n",
      "21  11395747  33960238 -118319986\n",
      "22  11404347  33959896 -118350438\n",
      "23  11405747  33952952 -118361711\n",
      "24  11417147  33931500 -118352104\n"
     ]
    }
   ],
   "source": [
    "# pick up the first 25 rows as a sample dataset\n",
    "sample = data[0:25]\n",
    "print(sample)"
   ]
  },
  {
   "cell_type": "code",
   "execution_count": 115,
   "metadata": {},
   "outputs": [
    {
     "name": "stdout",
     "output_type": "stream",
     "text": [
      "25\n"
     ]
    }
   ],
   "source": [
    "size = len(sample)\n",
    "print(size)"
   ]
  },
  {
   "cell_type": "code",
   "execution_count": 114,
   "metadata": {},
   "outputs": [
    {
     "name": "stdout",
     "output_type": "stream",
     "text": [
      "24\n"
     ]
    }
   ],
   "source": [
    "for row in sample.itertuples():\n",
    "    if (row[0] == size - 1):\n",
    "        print(row[0])"
   ]
  },
  {
   "cell_type": "code",
   "execution_count": 116,
   "metadata": {},
   "outputs": [
    {
     "data": {
      "text/plain": [
       "Pandas(Index=24, parcelid=11417147, latitude=33931500, longitude=-118352104)"
      ]
     },
     "execution_count": 116,
     "metadata": {},
     "output_type": "execute_result"
    }
   ],
   "source": [
    "row "
   ]
  },
  {
   "cell_type": "code",
   "execution_count": 117,
   "metadata": {},
   "outputs": [
    {
     "name": "stdout",
     "output_type": "stream",
     "text": [
      "24\n",
      "11417147\n",
      "33931500\n",
      "-118352104\n"
     ]
    }
   ],
   "source": [
    "for attribute in row:\n",
    "    print(attribute)"
   ]
  },
  {
   "cell_type": "markdown",
   "metadata": {},
   "source": [
    "### How to build a json format item"
   ]
  },
  {
   "cell_type": "code",
   "execution_count": 105,
   "metadata": {
    "collapsed": true
   },
   "outputs": [],
   "source": [
    "test = {\n",
    "        'Name': '10759547',\n",
    "        'Attributes': [\n",
    "            {\n",
    "                'Name': 'latitude',\n",
    "                'Value': '34140430',\n",
    "                'Replace': True\n",
    "            },\n",
    "            {\n",
    "                'Name': 'longitude',\n",
    "                'Value': '-118625364',\n",
    "                'Replace': True\n",
    "            },\n",
    "        ]\n",
    "    }"
   ]
  },
  {
   "cell_type": "code",
   "execution_count": 106,
   "metadata": {
    "collapsed": true
   },
   "outputs": [],
   "source": [
    "group = []"
   ]
  },
  {
   "cell_type": "code",
   "execution_count": 107,
   "metadata": {
    "collapsed": true
   },
   "outputs": [],
   "source": [
    "group.append(test)"
   ]
  },
  {
   "cell_type": "code",
   "execution_count": 108,
   "metadata": {},
   "outputs": [
    {
     "data": {
      "text/plain": [
       "[{'Attributes': [{'Name': 'latitude', 'Replace': True, 'Value': '34140430'},\n",
       "   {'Name': 'longitude', 'Replace': True, 'Value': '-118625364'}],\n",
       "  'Name': '10759547'}]"
      ]
     },
     "execution_count": 108,
     "metadata": {},
     "output_type": "execute_result"
    }
   ],
   "source": [
    "group"
   ]
  },
  {
   "cell_type": "code",
   "execution_count": 109,
   "metadata": {
    "collapsed": true
   },
   "outputs": [],
   "source": [
    "test2 = {\n",
    "        'Name': '00000',\n",
    "        'Attributes': [\n",
    "            {\n",
    "                'Name': 'latitude',\n",
    "                'Value': '00000',\n",
    "                'Replace': True\n",
    "            },\n",
    "            {\n",
    "                'Name': 'longitude',\n",
    "                'Value': '00000',\n",
    "                'Replace': True\n",
    "            },\n",
    "        ]\n",
    "    }"
   ]
  },
  {
   "cell_type": "code",
   "execution_count": 110,
   "metadata": {
    "collapsed": true
   },
   "outputs": [],
   "source": [
    "group.append(test2)"
   ]
  },
  {
   "cell_type": "code",
   "execution_count": 111,
   "metadata": {
    "scrolled": true
   },
   "outputs": [
    {
     "data": {
      "text/plain": [
       "[{'Attributes': [{'Name': 'latitude', 'Replace': True, 'Value': '34140430'},\n",
       "   {'Name': 'longitude', 'Replace': True, 'Value': '-118625364'}],\n",
       "  'Name': '10759547'},\n",
       " {'Attributes': [{'Name': 'latitude', 'Replace': True, 'Value': '00000'},\n",
       "   {'Name': 'longitude', 'Replace': True, 'Value': '00000'}],\n",
       "  'Name': '00000'}]"
      ]
     },
     "execution_count": 111,
     "metadata": {},
     "output_type": "execute_result"
    }
   ],
   "source": [
    "group"
   ]
  },
  {
   "cell_type": "markdown",
   "metadata": {},
   "source": [
    "### Test generating items using sample dataset"
   ]
  },
  {
   "cell_type": "code",
   "execution_count": 162,
   "metadata": {
    "collapsed": true
   },
   "outputs": [],
   "source": [
    "# generate one item\n",
    "def generate_one_item(row):\n",
    "    # index, parcelid, latitude, longitude\n",
    "    parcelid = str(row[1])\n",
    "    latitude = str(row[2])\n",
    "    longitude = str(row[3])\n",
    "    item = {\n",
    "                'Name': parcelid,\n",
    "                'Attributes': [\n",
    "                    {\n",
    "                        'Name': 'latitude',\n",
    "                        'Value': latitude,\n",
    "                        'Replace': True\n",
    "                    },\n",
    "                    {\n",
    "                        'Name': 'longitude',\n",
    "                        'Value': longitude,\n",
    "                        'Replace': True\n",
    "                    },\n",
    "                ]\n",
    "            }\n",
    "    return item"
   ]
  },
  {
   "cell_type": "code",
   "execution_count": 163,
   "metadata": {},
   "outputs": [
    {
     "data": {
      "text/plain": [
       "{'Attributes': [{'Name': 'latitude', 'Replace': True, 'Value': '33931500'},\n",
       "  {'Name': 'longitude', 'Replace': True, 'Value': '-118352104'}],\n",
       " 'Name': '11417147'}"
      ]
     },
     "execution_count": 163,
     "metadata": {},
     "output_type": "execute_result"
    }
   ],
   "source": [
    "generate_one_item(row)"
   ]
  },
  {
   "cell_type": "code",
   "execution_count": 134,
   "metadata": {
    "collapsed": true
   },
   "outputs": [],
   "source": [
    "# put_items function test\n",
    "def put_items(sdb, domainName, data):\n",
    "    numOfItems = len(data)\n",
    "    items_per_batch = []\n",
    "    for row in data.itertuples():\n",
    "        items_per_batch.append(generate_one_item(row))\n",
    "        # put 25 items each time\n",
    "        if (row[0] % 25 == 24) or (row[0] == numOfItems - 1):\n",
    "            put_items_one_batch(sdb, domainName, items_per_batch)\n",
    "            # reset items to []\n",
    "            # items_per_batch = []\n",
    "    return items_per_batch\n",
    "            \n",
    "# Do nothing here just for testing\n",
    "def put_items_one_batch(sdb, domainName, items_per_batch):\n",
    "#     response = sdb.batch_put_attributes(\n",
    "#         DomainName=domainName,\n",
    "#         Items=items_per_batch\n",
    "#     )\n",
    "\n",
    "    return"
   ]
  },
  {
   "cell_type": "code",
   "execution_count": 159,
   "metadata": {
    "collapsed": true
   },
   "outputs": [],
   "source": [
    "sdb = None\n",
    "domainName = \"ZillowData\"\n",
    "items_per_batch = put_items(sdb, domainName, sample)"
   ]
  },
  {
   "cell_type": "code",
   "execution_count": 143,
   "metadata": {},
   "outputs": [
    {
     "name": "stdout",
     "output_type": "stream",
     "text": [
      "Start: 1 Put\n"
     ]
    }
   ],
   "source": [
    "print(\"Start: \" + str(row[0] // 25 + 1) + \" Put\")"
   ]
  },
  {
   "cell_type": "code",
   "execution_count": 161,
   "metadata": {},
   "outputs": [
    {
     "data": {
      "text/plain": [
       "list"
      ]
     },
     "execution_count": 161,
     "metadata": {},
     "output_type": "execute_result"
    }
   ],
   "source": [
    "type(items_per_batch)"
   ]
  },
  {
   "cell_type": "markdown",
   "metadata": {
    "collapsed": true
   },
   "source": [
    "# 3. sample queries connecting to DBaas"
   ]
  },
  {
   "cell_type": "code",
   "execution_count": 7,
   "metadata": {
    "collapsed": true
   },
   "outputs": [],
   "source": [
    "import json\n",
    "import boto3\n",
    "from pandas import DataFrame"
   ]
  },
  {
   "cell_type": "code",
   "execution_count": 2,
   "metadata": {
    "collapsed": true
   },
   "outputs": [],
   "source": [
    "# Config.json location\n",
    "configFile = 'config.json'\n",
    "with open(configFile) as globalSettings:\n",
    "    config = json.load(globalSettings)\n",
    "\n",
    "# read keys\n",
    "ACCESS_KEY = str(config['AWSAccess'])\n",
    "SECRET_KEY = str(config['AWSSecret'])\n",
    "region = str(config['region'])"
   ]
  },
  {
   "cell_type": "code",
   "execution_count": 3,
   "metadata": {
    "collapsed": true
   },
   "outputs": [],
   "source": [
    "# Connect to SDB\n",
    "Session = boto3.Session(\n",
    "    aws_access_key_id=ACCESS_KEY,\n",
    "    aws_secret_access_key=SECRET_KEY,\n",
    "    region_name=region\n",
    ")\n",
    "sdb = Session.client('sdb')"
   ]
  },
  {
   "cell_type": "code",
   "execution_count": 181,
   "metadata": {},
   "outputs": [
    {
     "name": "stdout",
     "output_type": "stream",
     "text": [
      "{'ResponseMetadata': {'HTTPStatusCode': 200, 'RequestId': '0ad2b05f-b744-7163-36ce-3ff9ed52ac5f', 'BoxUsage': '0.0009278836', 'RetryAttempts': 0, 'HTTPHeaders': {'vary': 'Accept-Encoding', 'date': 'Wed, 05 Jul 2017 21:31:18 GMT', 'transfer-encoding': 'chunked', 'content-type': 'text/xml', 'server': 'Amazon SimpleDB', 'connection': 'keep-alive'}}, 'Items': [{'Name': '10879947', 'Attributes': [{'Name': 'latitude', 'Value': '34194168'}]}, {'Name': '10954547', 'Attributes': [{'Name': 'latitude', 'Value': '34218210'}]}, {'Name': '10976347', 'Attributes': [{'Name': 'latitude', 'Value': '34289776'}]}, {'Name': '11073947', 'Attributes': [{'Name': 'latitude', 'Value': '34265214'}]}, {'Name': '11114347', 'Attributes': [{'Name': 'latitude', 'Value': '34447747'}]}, {'Name': '11116947', 'Attributes': [{'Name': 'latitude', 'Value': '34465048'}]}, {'Name': '11142747', 'Attributes': [{'Name': 'latitude', 'Value': '34416889'}]}, {'Name': '11193347', 'Attributes': [{'Name': 'latitude', 'Value': '34585014'}]}, {'Name': '11215747', 'Attributes': [{'Name': 'latitude', 'Value': '34563376'}]}, {'Name': '11229347', 'Attributes': [{'Name': 'latitude', 'Value': '34526913'}]}, {'Name': '11287347', 'Attributes': [{'Name': 'latitude', 'Value': '34690736'}]}, {'Name': '11288547', 'Attributes': [{'Name': 'latitude', 'Value': '34733960'}]}, {'Name': '11324547', 'Attributes': [{'Name': 'latitude', 'Value': '34560018'}]}, {'Name': '12076747', 'Attributes': [{'Name': 'latitude', 'Value': '34172392'}]}, {'Name': '12167947', 'Attributes': [{'Name': 'latitude', 'Value': '34202429'}]}, {'Name': '12168547', 'Attributes': [{'Name': 'latitude', 'Value': '34192420'}]}, {'Name': '13114147', 'Attributes': [{'Name': 'latitude', 'Value': '34680553'}]}, {'Name': '13114347', 'Attributes': [{'Name': 'latitude', 'Value': '34680553'}]}, {'Name': '13114547', 'Attributes': [{'Name': 'latitude', 'Value': '34189273'}]}, {'Name': '13114747', 'Attributes': [{'Name': 'latitude', 'Value': '34209694'}]}, {'Name': '13115147', 'Attributes': [{'Name': 'latitude', 'Value': '34308900'}]}, {'Name': '13115347', 'Attributes': [{'Name': 'latitude', 'Value': '34276994'}]}, {'Name': '13115547', 'Attributes': [{'Name': 'latitude', 'Value': '34267763'}]}, {'Name': '13115747', 'Attributes': [{'Name': 'latitude', 'Value': '34327059'}]}, {'Name': '13115947', 'Attributes': [{'Name': 'latitude', 'Value': '34327059'}]}, {'Name': '13116147', 'Attributes': [{'Name': 'latitude', 'Value': '34314483'}]}, {'Name': '13116347', 'Attributes': [{'Name': 'latitude', 'Value': '34271503'}]}, {'Name': '13116547', 'Attributes': [{'Name': 'latitude', 'Value': '34245616'}]}, {'Name': '13116747', 'Attributes': [{'Name': 'latitude', 'Value': '34248085'}]}, {'Name': '13116947', 'Attributes': [{'Name': 'latitude', 'Value': '34228588'}]}, {'Name': '13117147', 'Attributes': [{'Name': 'latitude', 'Value': '34233366'}]}, {'Name': '13117347', 'Attributes': [{'Name': 'latitude', 'Value': '34413580'}]}, {'Name': '13117547', 'Attributes': [{'Name': 'latitude', 'Value': '34422603'}]}, {'Name': '13117747', 'Attributes': [{'Name': 'latitude', 'Value': '34422603'}]}, {'Name': '13117947', 'Attributes': [{'Name': 'latitude', 'Value': '34371722'}]}, {'Name': '13118147', 'Attributes': [{'Name': 'latitude', 'Value': '34410234'}]}, {'Name': '13118347', 'Attributes': [{'Name': 'latitude', 'Value': '34410234'}]}, {'Name': '13118547', 'Attributes': [{'Name': 'latitude', 'Value': '34422842'}]}, {'Name': '13118747', 'Attributes': [{'Name': 'latitude', 'Value': '34418546'}]}, {'Name': '13118947', 'Attributes': [{'Name': 'latitude', 'Value': '34571089'}]}, {'Name': '13119147', 'Attributes': [{'Name': 'latitude', 'Value': '34575492'}]}, {'Name': '13119347', 'Attributes': [{'Name': 'latitude', 'Value': '34561192'}]}, {'Name': '13119547', 'Attributes': [{'Name': 'latitude', 'Value': '34556011'}]}, {'Name': '13119747', 'Attributes': [{'Name': 'latitude', 'Value': '34647495'}]}, {'Name': '13119947', 'Attributes': [{'Name': 'latitude', 'Value': '34760580'}]}, {'Name': '13120147', 'Attributes': [{'Name': 'latitude', 'Value': '34680513'}]}, {'Name': '13120347', 'Attributes': [{'Name': 'latitude', 'Value': '34706358'}]}, {'Name': '13120547', 'Attributes': [{'Name': 'latitude', 'Value': '34707984'}]}, {'Name': '13120747', 'Attributes': [{'Name': 'latitude', 'Value': '34709046'}]}, {'Name': '13120947', 'Attributes': [{'Name': 'latitude', 'Value': '34702455'}]}, {'Name': '13121147', 'Attributes': [{'Name': 'latitude', 'Value': '34716989'}]}, {'Name': '13121347', 'Attributes': [{'Name': 'latitude', 'Value': '34708502'}]}, {'Name': '13121547', 'Attributes': [{'Name': 'latitude', 'Value': '34708502'}]}, {'Name': '13121747', 'Attributes': [{'Name': 'latitude', 'Value': '34448823'}]}, {'Name': '13121947', 'Attributes': [{'Name': 'latitude', 'Value': '34269111'}]}, {'Name': '13122547', 'Attributes': [{'Name': 'latitude', 'Value': '34351436'}]}, {'Name': '13124947', 'Attributes': [{'Name': 'latitude', 'Value': '34705741'}]}, {'Name': '13130347', 'Attributes': [{'Name': 'latitude', 'Value': '34238623'}]}, {'Name': '13130547', 'Attributes': [{'Name': 'latitude', 'Value': '34238428'}]}, {'Name': '13137147', 'Attributes': [{'Name': 'latitude', 'Value': '34621824'}]}, {'Name': '13137347', 'Attributes': [{'Name': 'latitude', 'Value': '34619963'}]}, {'Name': '13137547', 'Attributes': [{'Name': 'latitude', 'Value': '34619963'}]}, {'Name': '13137747', 'Attributes': [{'Name': 'latitude', 'Value': '34316857'}]}, {'Name': '13137947', 'Attributes': [{'Name': 'latitude', 'Value': '34558548'}]}, {'Name': '13138347', 'Attributes': [{'Name': 'latitude', 'Value': '34428643'}]}, {'Name': '13138547', 'Attributes': [{'Name': 'latitude', 'Value': '34429346'}]}, {'Name': '17061147', 'Attributes': [{'Name': 'latitude', 'Value': '34430592'}]}, {'Name': '17099147', 'Attributes': [{'Name': 'latitude', 'Value': '34355400'}]}, {'Name': '17051828', 'Attributes': [{'Name': 'latitude', 'Value': '34433200'}]}, {'Name': '17052152', 'Attributes': [{'Name': 'latitude', 'Value': '34464778'}]}, {'Name': '17052992', 'Attributes': [{'Name': 'latitude', 'Value': '34450686'}]}, {'Name': '17053038', 'Attributes': [{'Name': 'latitude', 'Value': '34448639'}]}, {'Name': '17053061', 'Attributes': [{'Name': 'latitude', 'Value': '34450089'}]}, {'Name': '17257947', 'Attributes': [{'Name': 'latitude', 'Value': '34260898'}]}, {'Name': '17303147', 'Attributes': [{'Name': 'latitude', 'Value': '34422767'}]}, {'Name': '17303347', 'Attributes': [{'Name': 'latitude', 'Value': '34429402'}]}, {'Name': '17304947', 'Attributes': [{'Name': 'latitude', 'Value': '34262892'}]}, {'Name': '17307347', 'Attributes': [{'Name': 'latitude', 'Value': '34192481'}]}, {'Name': '17308947', 'Attributes': [{'Name': 'latitude', 'Value': '34196427'}]}, {'Name': '17309547', 'Attributes': [{'Name': 'latitude', 'Value': '34268764'}]}, {'Name': '17310147', 'Attributes': [{'Name': 'latitude', 'Value': '34270215'}]}, {'Name': '17311347', 'Attributes': [{'Name': 'latitude', 'Value': '34339245'}]}, {'Name': '76914347', 'Attributes': [{'Name': 'latitude', 'Value': '34274964'}]}, {'Name': '76914547', 'Attributes': [{'Name': 'latitude', 'Value': '34410721'}]}, {'Name': '76914747', 'Attributes': [{'Name': 'latitude', 'Value': '34659491'}]}, {'Name': '17053543', 'Attributes': [{'Name': 'latitude', 'Value': '34437502'}]}, {'Name': '17054185', 'Attributes': [{'Name': 'latitude', 'Value': '34437002'}]}, {'Name': '17054285', 'Attributes': [{'Name': 'latitude', 'Value': '34438707'}]}, {'Name': '17054331', 'Attributes': [{'Name': 'latitude', 'Value': '34440918'}]}, {'Name': '17054431', 'Attributes': [{'Name': 'latitude', 'Value': '34437618'}]}, {'Name': '17054492', 'Attributes': [{'Name': 'latitude', 'Value': '34452715'}]}, {'Name': '17054889', 'Attributes': [{'Name': 'latitude', 'Value': '34451218'}]}, {'Name': '17054981', 'Attributes': [{'Name': 'latitude', 'Value': '34449407'}]}, {'Name': '17055119', 'Attributes': [{'Name': 'latitude', 'Value': '34445300'}]}, {'Name': '17055279', 'Attributes': [{'Name': 'latitude', 'Value': '34450161'}]}, {'Name': '17055559', 'Attributes': [{'Name': 'latitude', 'Value': '34456617'}]}, {'Name': '17055582', 'Attributes': [{'Name': 'latitude', 'Value': '34460706'}]}, {'Name': '17055674', 'Attributes': [{'Name': 'latitude', 'Value': '34456013'}]}, {'Name': '17055743', 'Attributes': [{'Name': 'latitude', 'Value': '34454169'}]}, {'Name': '17055981', 'Attributes': [{'Name': 'latitude', 'Value': '34453114'}]}], 'NextToken': 'rO0ABXNyACdjb20uYW1hem9uLnNkcy5RdWVyeVByb2Nlc3Nvci5Nb3JlVG9rZW7racXLnINNqwMA\\nC0kAFGluaXRpYWxDb25qdW5jdEluZGV4WgAOaXNQYWdlQm91bmRhcnlKAAxsYXN0RW50aXR5SURa\\nAApscnFFbmFibGVkSQAPcXVlcnlDb21wbGV4aXR5SgATcXVlcnlTdHJpbmdDaGVja3N1bUkACnVu\\naW9uSW5kZXhaAA11c2VRdWVyeUluZGV4TAANY29uc2lzdGVudExTTnQAEkxqYXZhL2xhbmcvU3Ry\\naW5nO0wAEmxhc3RBdHRyaWJ1dGVWYWx1ZXEAfgABTAAJc29ydE9yZGVydAAvTGNvbS9hbWF6b24v\\nc2RzL1F1ZXJ5UHJvY2Vzc29yL1F1ZXJ5JFNvcnRPcmRlcjt4cAAAAAAAAAAAAAAAATsAAAAAAQAA\\nAABaKY11AAAAAABwcH5yAC1jb20uYW1hem9uLnNkcy5RdWVyeVByb2Nlc3Nvci5RdWVyeSRTb3J0\\nT3JkZXIAAAAAAAAAABIAAHhyAA5qYXZhLmxhbmcuRW51bQAAAAAAAAAAEgAAeHB0AAlBU0NFTkRJ\\nTkd4'}\n"
     ]
    }
   ],
   "source": [
    "response = sdb.select(\n",
    "    SelectExpression=\"select latitude from ZillowData where latitude > '34171873'\",\n",
    "#     NextToken='string',\n",
    "#     ConsistentRead=True|False\n",
    ")\n",
    "print(response)"
   ]
  },
  {
   "cell_type": "code",
   "execution_count": 182,
   "metadata": {},
   "outputs": [
    {
     "data": {
      "text/plain": [
       "100"
      ]
     },
     "execution_count": 182,
     "metadata": {},
     "output_type": "execute_result"
    }
   ],
   "source": [
    "len(response['Items'])"
   ]
  },
  {
   "cell_type": "code",
   "execution_count": 5,
   "metadata": {},
   "outputs": [
    {
     "name": "stdout",
     "output_type": "stream",
     "text": [
      "{'ResponseMetadata': {'BoxUsage': '0.0000594282', 'HTTPHeaders': {'server': 'Amazon SimpleDB', 'transfer-encoding': 'chunked', 'date': 'Thu, 06 Jul 2017 22:13:25 GMT', 'connection': 'keep-alive', 'content-type': 'text/xml', 'vary': 'Accept-Encoding'}, 'HTTPStatusCode': 200, 'RetryAttempts': 0, 'RequestId': '7cf6c89b-daa0-b89e-ea78-03693e108332'}, 'NextToken': 'rO0ABXNyACdjb20uYW1hem9uLnNkcy5RdWVyeVByb2Nlc3Nvci5Nb3JlVG9rZW7racXLnINNqwMA\\nC0kAFGluaXRpYWxDb25qdW5jdEluZGV4WgAOaXNQYWdlQm91bmRhcnlKAAxsYXN0RW50aXR5SURa\\nAApscnFFbmFibGVkSQAPcXVlcnlDb21wbGV4aXR5SgATcXVlcnlTdHJpbmdDaGVja3N1bUkACnVu\\naW9uSW5kZXhaAA11c2VRdWVyeUluZGV4TAANY29uc2lzdGVudExTTnQAEkxqYXZhL2xhbmcvU3Ry\\naW5nO0wAEmxhc3RBdHRyaWJ1dGVWYWx1ZXEAfgABTAAJc29ydE9yZGVydAAvTGNvbS9hbWF6b24v\\nc2RzL1F1ZXJ5UHJvY2Vzc29yL1F1ZXJ5JFNvcnRPcmRlcjt4cAAAAAAAAAAAAAAAAAUAAAAAAAAA\\nAAAAAAAAAAAAAABwcHB4', 'Items': [{'Attributes': [{'Value': '34144442', 'Name': 'latitude'}, {'Value': '-118654084', 'Name': 'longitude'}], 'Name': '10754147'}, {'Attributes': [{'Value': '34140430', 'Name': 'latitude'}, {'Value': '-118625364', 'Name': 'longitude'}], 'Name': '10759547'}, {'Attributes': [{'Value': '33989359', 'Name': 'latitude'}, {'Value': '-118394633', 'Name': 'longitude'}], 'Name': '10843547'}, {'Attributes': [{'Value': '34148863', 'Name': 'latitude'}, {'Value': '-118437206', 'Name': 'longitude'}], 'Name': '10859147'}, {'Attributes': [{'Value': '34194168', 'Name': 'latitude'}, {'Value': '-118385816', 'Name': 'longitude'}], 'Name': '10879947'}]}\n"
     ]
    }
   ],
   "source": [
    "response = sdb.select(\n",
    "    SelectExpression=\"select * from ZillowData limit 5\",\n",
    "#     NextToken='string',\n",
    "#     ConsistentRead=True|False\n",
    ")\n",
    "print(response)"
   ]
  },
  {
   "cell_type": "code",
   "execution_count": 30,
   "metadata": {},
   "outputs": [
    {
     "data": {
      "text/html": [
       "<div>\n",
       "<table border=\"1\" class=\"dataframe\">\n",
       "  <thead>\n",
       "    <tr style=\"text-align: right;\">\n",
       "      <th></th>\n",
       "      <th>id</th>\n",
       "      <th>latitude</th>\n",
       "      <th>longitude</th>\n",
       "    </tr>\n",
       "  </thead>\n",
       "  <tbody>\n",
       "    <tr>\n",
       "      <th>0</th>\n",
       "      <td>10754147</td>\n",
       "      <td>34.144442</td>\n",
       "      <td>-118.654084</td>\n",
       "    </tr>\n",
       "    <tr>\n",
       "      <th>1</th>\n",
       "      <td>10759547</td>\n",
       "      <td>34.140430</td>\n",
       "      <td>-118.625364</td>\n",
       "    </tr>\n",
       "    <tr>\n",
       "      <th>2</th>\n",
       "      <td>10843547</td>\n",
       "      <td>33.989359</td>\n",
       "      <td>-118.394633</td>\n",
       "    </tr>\n",
       "    <tr>\n",
       "      <th>3</th>\n",
       "      <td>10859147</td>\n",
       "      <td>34.148863</td>\n",
       "      <td>-118.437206</td>\n",
       "    </tr>\n",
       "    <tr>\n",
       "      <th>4</th>\n",
       "      <td>10879947</td>\n",
       "      <td>34.194168</td>\n",
       "      <td>-118.385816</td>\n",
       "    </tr>\n",
       "  </tbody>\n",
       "</table>\n",
       "</div>"
      ],
      "text/plain": [
       "         id   latitude   longitude\n",
       "0  10754147  34.144442 -118.654084\n",
       "1  10759547  34.140430 -118.625364\n",
       "2  10843547  33.989359 -118.394633\n",
       "3  10859147  34.148863 -118.437206\n",
       "4  10879947  34.194168 -118.385816"
      ]
     },
     "execution_count": 30,
     "metadata": {},
     "output_type": "execute_result"
    }
   ],
   "source": [
    "items = response['Items']\n",
    "id = []\n",
    "latitudes = []\n",
    "longitudes = []\n",
    "\n",
    "for attr in items:\n",
    "    lat = float(attr['Attributes'][0]['Value']) / 1000000\n",
    "    long = float(attr['Attributes'][1]['Value']) / 1000000\n",
    "    id.append(attr['Name'])\n",
    "    latitudes.append(lat)\n",
    "    longitudes.append(long)\n",
    "    \n",
    "data = DataFrame({'id': id, 'latitude': latitudes, 'longitude': longitudes})\n",
    "data"
   ]
  },
  {
   "cell_type": "code",
   "execution_count": 15,
   "metadata": {},
   "outputs": [
    {
     "data": {
      "text/html": [
       "<div>\n",
       "<table border=\"1\" class=\"dataframe\">\n",
       "  <thead>\n",
       "    <tr style=\"text-align: right;\">\n",
       "      <th></th>\n",
       "      <th>latitude</th>\n",
       "      <th>longitude</th>\n",
       "    </tr>\n",
       "    <tr>\n",
       "      <th>id</th>\n",
       "      <th></th>\n",
       "      <th></th>\n",
       "    </tr>\n",
       "  </thead>\n",
       "  <tbody>\n",
       "    <tr>\n",
       "      <th>10754147</th>\n",
       "      <td>34.144442</td>\n",
       "      <td>-118.654084</td>\n",
       "    </tr>\n",
       "    <tr>\n",
       "      <th>10759547</th>\n",
       "      <td>34.140430</td>\n",
       "      <td>-118.625364</td>\n",
       "    </tr>\n",
       "    <tr>\n",
       "      <th>10843547</th>\n",
       "      <td>33.989359</td>\n",
       "      <td>-118.394633</td>\n",
       "    </tr>\n",
       "    <tr>\n",
       "      <th>10859147</th>\n",
       "      <td>34.148863</td>\n",
       "      <td>-118.437206</td>\n",
       "    </tr>\n",
       "    <tr>\n",
       "      <th>10879947</th>\n",
       "      <td>34.194168</td>\n",
       "      <td>-118.385816</td>\n",
       "    </tr>\n",
       "  </tbody>\n",
       "</table>\n",
       "</div>"
      ],
      "text/plain": [
       "           latitude   longitude\n",
       "id                             \n",
       "10754147  34.144442 -118.654084\n",
       "10759547  34.140430 -118.625364\n",
       "10843547  33.989359 -118.394633\n",
       "10859147  34.148863 -118.437206\n",
       "10879947  34.194168 -118.385816"
      ]
     },
     "execution_count": 15,
     "metadata": {},
     "output_type": "execute_result"
    }
   ],
   "source": [
    "data = data.set_index('id')\n",
    "data"
   ]
  },
  {
   "cell_type": "code",
   "execution_count": 39,
   "metadata": {},
   "outputs": [
    {
     "data": {
      "text/html": [
       "<div>\n",
       "<table border=\"1\" class=\"dataframe\">\n",
       "  <thead>\n",
       "    <tr style=\"text-align: right;\">\n",
       "      <th></th>\n",
       "      <th>id</th>\n",
       "      <th>latitude</th>\n",
       "      <th>longitude</th>\n",
       "    </tr>\n",
       "  </thead>\n",
       "  <tbody>\n",
       "    <tr>\n",
       "      <th>2</th>\n",
       "      <td>10843547</td>\n",
       "      <td>33.989359</td>\n",
       "      <td>-118.394633</td>\n",
       "    </tr>\n",
       "    <tr>\n",
       "      <th>1</th>\n",
       "      <td>10759547</td>\n",
       "      <td>34.140430</td>\n",
       "      <td>-118.625364</td>\n",
       "    </tr>\n",
       "    <tr>\n",
       "      <th>0</th>\n",
       "      <td>10754147</td>\n",
       "      <td>34.144442</td>\n",
       "      <td>-118.654084</td>\n",
       "    </tr>\n",
       "    <tr>\n",
       "      <th>3</th>\n",
       "      <td>10859147</td>\n",
       "      <td>34.148863</td>\n",
       "      <td>-118.437206</td>\n",
       "    </tr>\n",
       "    <tr>\n",
       "      <th>4</th>\n",
       "      <td>10879947</td>\n",
       "      <td>34.194168</td>\n",
       "      <td>-118.385816</td>\n",
       "    </tr>\n",
       "  </tbody>\n",
       "</table>\n",
       "</div>"
      ],
      "text/plain": [
       "         id   latitude   longitude\n",
       "2  10843547  33.989359 -118.394633\n",
       "1  10759547  34.140430 -118.625364\n",
       "0  10754147  34.144442 -118.654084\n",
       "3  10859147  34.148863 -118.437206\n",
       "4  10879947  34.194168 -118.385816"
      ]
     },
     "execution_count": 39,
     "metadata": {},
     "output_type": "execute_result"
    }
   ],
   "source": [
    "closest = data.sort_values(by=['latitude'], ascending=True)[0:10]\n",
    "closest"
   ]
  },
  {
   "cell_type": "code",
   "execution_count": 45,
   "metadata": {},
   "outputs": [
    {
     "data": {
      "text/plain": [
       "[{'id': '10843547', 'latitude': 33.989359, 'longitude': -118.394633},\n",
       " {'id': '10759547', 'latitude': 34.14043, 'longitude': -118.625364},\n",
       " {'id': '10754147', 'latitude': 34.144442, 'longitude': -118.654084},\n",
       " {'id': '10859147', 'latitude': 34.148863, 'longitude': -118.437206},\n",
       " {'id': '10879947', 'latitude': 34.194168, 'longitude': -118.385816}]"
      ]
     },
     "execution_count": 45,
     "metadata": {},
     "output_type": "execute_result"
    }
   ],
   "source": [
    "# print(closest.to_json(orient='records'))\n",
    "result = closest.to_dict(orient='records')\n",
    "result"
   ]
  },
  {
   "cell_type": "code",
   "execution_count": 46,
   "metadata": {},
   "outputs": [
    {
     "ename": "SyntaxError",
     "evalue": "invalid syntax (<ipython-input-46-cdb3b90af9f2>, line 1)",
     "output_type": "error",
     "traceback": [
      "\u001b[0;36m  File \u001b[0;32m\"<ipython-input-46-cdb3b90af9f2>\"\u001b[0;36m, line \u001b[0;32m1\u001b[0m\n\u001b[0;31m    test = [<%= raw result %>]\u001b[0m\n\u001b[0m            ^\u001b[0m\n\u001b[0;31mSyntaxError\u001b[0m\u001b[0;31m:\u001b[0m invalid syntax\n"
     ]
    }
   ],
   "source": [
    "test = [<%= raw result %>]\n",
    "test"
   ]
  },
  {
   "cell_type": "code",
   "execution_count": null,
   "metadata": {
    "collapsed": true
   },
   "outputs": [],
   "source": []
  }
 ],
 "metadata": {
  "anaconda-cloud": {},
  "kernelspec": {
   "display_name": "Python [default]",
   "language": "python",
   "name": "python3"
  },
  "language_info": {
   "codemirror_mode": {
    "name": "ipython",
    "version": 3
   },
   "file_extension": ".py",
   "mimetype": "text/x-python",
   "name": "python",
   "nbconvert_exporter": "python",
   "pygments_lexer": "ipython3",
   "version": "3.5.3"
  }
 },
 "nbformat": 4,
 "nbformat_minor": 1
}
